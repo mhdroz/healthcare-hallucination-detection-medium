{
 "cells": [
  {
   "cell_type": "markdown",
   "id": "2f4d7b23",
   "metadata": {},
   "source": [
    "# How We Catch Hallucinations in Medical AI: Beyond Basic RAG\n"
   ]
  },
  {
   "cell_type": "code",
   "execution_count": 1,
   "id": "975028c6",
   "metadata": {},
   "outputs": [
    {
     "name": "stderr",
     "output_type": "stream",
     "text": [
      "/opt/anaconda3/envs/ml_dev/lib/python3.11/site-packages/tqdm/auto.py:21: TqdmWarning: IProgress not found. Please update jupyter and ipywidgets. See https://ipywidgets.readthedocs.io/en/stable/user_install.html\n",
      "  from .autonotebook import tqdm as notebook_tqdm\n"
     ]
    },
    {
     "data": {
      "text/plain": [
       "True"
      ]
     },
     "execution_count": 1,
     "metadata": {},
     "output_type": "execute_result"
    }
   ],
   "source": [
    "import re\n",
    "import json\n",
    "import time\n",
    "import numpy as np\n",
    "from sentence_transformers import SentenceTransformer\n",
    "from sklearn.metrics.pairwise import cosine_similarity\n",
    "\n",
    "\n",
    "from llama_index.core import Settings\n",
    "from llama_index.embeddings.huggingface import HuggingFaceEmbedding\n",
    "from llama_index.llms.openai import OpenAI\n",
    "\n",
    "from llama_index.core import StorageContext, load_index_from_storage\n",
    "from llama_index.core.response_synthesizers import ResponseMode\n",
    "\n",
    "from llama_index.core.postprocessor import SentenceTransformerRerank\n",
    "\n",
    "from dotenv import load_dotenv\n",
    "\n",
    "# Load environment variables.\n",
    "load_dotenv()"
   ]
  },
  {
   "cell_type": "markdown",
   "id": "34345a7b",
   "metadata": {},
   "source": [
    "# 1. Create the query engine from post 2\n",
    "Here we assume you already have indexed your knowledge base. If that is not the case, follow the steps [here](https://pub.towardsai.net/hallucinations-in-healthcare-llms-why-they-happen-and-how-to-prevent-them-614d845242f4) to download your knowledge base and [here](https://pub.towardsai.net/how-to-build-a-rag-system-for-healthcare-minimize-hallucinations-in-llm-outputs-0b8ea4a4eaae) to build it"
   ]
  },
  {
   "cell_type": "code",
   "execution_count": 2,
   "id": "2a051ceb",
   "metadata": {},
   "outputs": [],
   "source": [
    "# We will be using the bioBERT embeddings and small chunks configuraion from post 2\n",
    "bio_embed = HuggingFaceEmbedding(model_name=\"pritamdeka/BioBERT-mnli-snli-scinli-scitail-mednli-stsb\")\n",
    "Settings.embed_model = bio_embed\n",
    "Settings.chunk_size = 256\n",
    "Settings.chunk_overlap = 20"
   ]
  },
  {
   "cell_type": "code",
   "execution_count": 3,
   "id": "3f62aa1c",
   "metadata": {},
   "outputs": [],
   "source": [
    "# We update slightly the create_engine function to add the reranker option\n",
    "def create_query_engine(index_path, llm, k=5, reranker=None):\n",
    "    # Load the index\n",
    "    storage_context = StorageContext.from_defaults(persist_dir=index_path)\n",
    "    index = load_index_from_storage(storage_context)\n",
    "\n",
    "    # Configure the LLM\n",
    "    Settings.llm = llm\n",
    "\n",
    "    # Common kwargs\n",
    "    qe_kwargs = {\n",
    "        \"response_mode\": ResponseMode.TREE_SUMMARIZE,\n",
    "        \"text_qa_template\": \"\"\"\n",
    "    You are a medical information assistant.\n",
    "    Answer the question based ONLY on the following context.\n",
    "    If you don't know the answer from the context, say \"I don't have enough information to answer this question reliably. Please consult a healthcare professional.\"\n",
    "    Do NOT make up or infer information not present in the context.\n",
    "    Always cite the PMCID when providing information.\n",
    "\n",
    "    Context:\n",
    "    {context}\n",
    "\n",
    "    Question: {query_str}\n",
    "\n",
    "    Answer:\"\"\",\n",
    "        \"similarity_top_k\": k,\n",
    "    }\n",
    "\n",
    "    # Add the reranker only if it's defined\n",
    "    if reranker:\n",
    "        qe_kwargs[\"node_postprocessors\"] = [reranker]\n",
    "\n",
    "    # Build the query engine\n",
    "    query_engine = index.as_query_engine(**qe_kwargs)\n",
    "\n",
    "    return query_engine"
   ]
  },
  {
   "cell_type": "code",
   "execution_count": 4,
   "id": "3648656e",
   "metadata": {},
   "outputs": [],
   "source": [
    "# Use biobert index and the reranker\n",
    "llm = OpenAI(model=\"gpt-4o-2024-11-20\", temperature=0.1)\n",
    "reranker = SentenceTransformerRerank(\n",
    "        model=\"mixedbread-ai/mxbai-rerank-base-v1\", \n",
    "        top_n=4,\n",
    ")\n",
    "index_path = \"./pneumonia_biobert_256\"\n",
    "query_engine_reranker = create_query_engine(index_path, llm, reranker=reranker, k=12)"
   ]
  },
  {
   "cell_type": "markdown",
   "id": "6109aa27",
   "metadata": {},
   "source": [
    "Before digging into the new metrics, let's run ragas on our system to identify questions that are potentially challenging\n",
    "\n",
    "# Run RAGAS on test set"
   ]
  },
  {
   "cell_type": "code",
   "execution_count": 5,
   "id": "8aa60a01",
   "metadata": {},
   "outputs": [],
   "source": [
    "from ragas import EvaluationDataset\n",
    "from ragas import SingleTurnSample \n",
    "\n",
    "pneumonia_questions = [\n",
    "    # community-acquired pneumonia (CAP)\n",
    "    \"What is the first-line antibiotic regimen for outpatient treatment of uncomplicated community-acquired bacterial pneumonia in an adult with no comorbidities?\",\n",
    "    \"When is dual therapy with a β-lactam plus macrolide preferred over monotherapy for CAP?\",\n",
    "    \"Recommended duration of therapy for uncomplicated CAP caused by Streptococcus pneumoniae?\",\n",
    "    \"How does recommended empiric therapy change for CAP in regions with >25 % macrolide-resistant S. pneumoniae?\",\n",
    "    \"Which respiratory fluoroquinolones are acceptable alternatives for CAP in a patient with severe penicillin allergy?\",\n",
    "\n",
    "    # hospital-acquired / ventilator-associated pneumonia (HAP/VAP)\n",
    "    \"What empiric coverage is advised for hospital-acquired pneumonia when MRSA risk factors are present?\",\n",
    "    \"First-line IV therapy for severe CAP requiring ICU admission with pseudomonal risk?\",\n",
    "    \"Role of local antibiogram data in selecting empiric therapy for ventilator-associated pneumonia?\",\n",
    "\n",
    "    # special situations\n",
    "    \"When should azithromycin dose be adjusted in moderate renal impairment?\",\n",
    "    \"Preferred outpatient therapy for CAP in a pregnant patient during the second trimester?\",\n",
    "    \"How does the guideline differ for treating aspiration pneumonia with anaerobic coverage?\",\n",
    "    \"Recommended approach if a patient remains febrile after 48 h of appropriate CAP therapy?\",\n",
    "]\n",
    "\n",
    "samples = [\n",
    "    SingleTurnSample(\n",
    "        id=f\"q{i}\",\n",
    "        user_input=q,     # the question\n",
    "        answer=None,      # use real answers if you have them\n",
    "        contexts=[],      # and real citational chunks if you have them\n",
    "    )\n",
    "    for i, q in enumerate(pneumonia_questions)\n",
    "]\n",
    "\n",
    "eval_ds = EvaluationDataset(samples)  \n",
    "\n"
   ]
  },
  {
   "cell_type": "code",
   "execution_count": 6,
   "id": "ef47bc4d",
   "metadata": {},
   "outputs": [
    {
     "name": "stderr",
     "output_type": "stream",
     "text": [
      "Running Query Engine: 100%|██████████| 12/12 [00:18<00:00,  1.53s/it]\n",
      "Evaluating:  46%|████▌     | 11/24 [00:13<00:17,  1.33s/it]Retrying llama_index.llms.openai.base.OpenAI._achat in 1.0 seconds as it raised RateLimitError: Error code: 429 - {'error': {'message': 'Rate limit reached for gpt-4o in organization org-2EY96yADGdrWYewi1eeWvTrF on tokens per min (TPM): Limit 30000, Used 30000, Requested 533. Please try again in 1.066s. Visit https://platform.openai.com/account/rate-limits to learn more.', 'type': 'tokens', 'param': None, 'code': 'rate_limit_exceeded'}}.\n",
      "Evaluating:  67%|██████▋   | 16/24 [00:14<00:05,  1.38it/s]Retrying llama_index.llms.openai.base.OpenAI._achat in 1.0 seconds as it raised RateLimitError: Error code: 429 - {'error': {'message': 'Rate limit reached for gpt-4o in organization org-2EY96yADGdrWYewi1eeWvTrF on tokens per min (TPM): Limit 30000, Used 30000, Requested 536. Please try again in 1.072s. Visit https://platform.openai.com/account/rate-limits to learn more.', 'type': 'tokens', 'param': None, 'code': 'rate_limit_exceeded'}}.\n",
      "Retrying llama_index.llms.openai.base.OpenAI._achat in 1.4513746015547806 seconds as it raised RateLimitError: Error code: 429 - {'error': {'message': 'Rate limit reached for gpt-4o in organization org-2EY96yADGdrWYewi1eeWvTrF on tokens per min (TPM): Limit 30000, Used 30000, Requested 533. Please try again in 1.066s. Visit https://platform.openai.com/account/rate-limits to learn more.', 'type': 'tokens', 'param': None, 'code': 'rate_limit_exceeded'}}.\n",
      "Retrying llama_index.llms.openai.base.OpenAI._achat in 1.2534490468776949 seconds as it raised RateLimitError: Error code: 429 - {'error': {'message': 'Rate limit reached for gpt-4o in organization org-2EY96yADGdrWYewi1eeWvTrF on tokens per min (TPM): Limit 30000, Used 30000, Requested 536. Please try again in 1.072s. Visit https://platform.openai.com/account/rate-limits to learn more.', 'type': 'tokens', 'param': None, 'code': 'rate_limit_exceeded'}}.\n",
      "Retrying llama_index.llms.openai.base.OpenAI._achat in 1.0 seconds as it raised RateLimitError: Error code: 429 - {'error': {'message': 'Rate limit reached for gpt-4o in organization org-2EY96yADGdrWYewi1eeWvTrF on tokens per min (TPM): Limit 30000, Used 30000, Requested 1758. Please try again in 3.516s. Visit https://platform.openai.com/account/rate-limits to learn more.', 'type': 'tokens', 'param': None, 'code': 'rate_limit_exceeded'}}.\n",
      "Retrying llama_index.llms.openai.base.OpenAI._achat in 1.0 seconds as it raised RateLimitError: Error code: 429 - {'error': {'message': 'Rate limit reached for gpt-4o in organization org-2EY96yADGdrWYewi1eeWvTrF on tokens per min (TPM): Limit 30000, Used 30000, Requested 1878. Please try again in 3.756s. Visit https://platform.openai.com/account/rate-limits to learn more.', 'type': 'tokens', 'param': None, 'code': 'rate_limit_exceeded'}}.\n",
      "Retrying llama_index.llms.openai.base.OpenAI._achat in 1.0 seconds as it raised RateLimitError: Error code: 429 - {'error': {'message': 'Rate limit reached for gpt-4o in organization org-2EY96yADGdrWYewi1eeWvTrF on tokens per min (TPM): Limit 30000, Used 30000, Requested 2058. Please try again in 4.116s. Visit https://platform.openai.com/account/rate-limits to learn more.', 'type': 'tokens', 'param': None, 'code': 'rate_limit_exceeded'}}.\n",
      "Retrying llama_index.llms.openai.base.OpenAI._achat in 1.0 seconds as it raised RateLimitError: Error code: 429 - {'error': {'message': 'Rate limit reached for gpt-4o in organization org-2EY96yADGdrWYewi1eeWvTrF on tokens per min (TPM): Limit 30000, Used 30000, Requested 2072. Please try again in 4.144s. Visit https://platform.openai.com/account/rate-limits to learn more.', 'type': 'tokens', 'param': None, 'code': 'rate_limit_exceeded'}}.\n",
      "Evaluating:  71%|███████   | 17/24 [00:24<00:16,  2.41s/it]Retrying llama_index.llms.openai.base.OpenAI._achat in 1.0 seconds as it raised RateLimitError: Error code: 429 - {'error': {'message': 'Rate limit reached for gpt-4o in organization org-2EY96yADGdrWYewi1eeWvTrF on tokens per min (TPM): Limit 30000, Used 30000, Requested 1913. Please try again in 3.826s. Visit https://platform.openai.com/account/rate-limits to learn more.', 'type': 'tokens', 'param': None, 'code': 'rate_limit_exceeded'}}.\n",
      "Retrying llama_index.llms.openai.base.OpenAI._achat in 1.0 seconds as it raised RateLimitError: Error code: 429 - {'error': {'message': 'Rate limit reached for gpt-4o in organization org-2EY96yADGdrWYewi1eeWvTrF on tokens per min (TPM): Limit 30000, Used 30000, Requested 1935. Please try again in 3.87s. Visit https://platform.openai.com/account/rate-limits to learn more.', 'type': 'tokens', 'param': None, 'code': 'rate_limit_exceeded'}}.\n",
      "Retrying llama_index.llms.openai.base.OpenAI._achat in 1.0 seconds as it raised RateLimitError: Error code: 429 - {'error': {'message': 'Rate limit reached for gpt-4o in organization org-2EY96yADGdrWYewi1eeWvTrF on tokens per min (TPM): Limit 30000, Used 30000, Requested 533. Please try again in 1.066s. Visit https://platform.openai.com/account/rate-limits to learn more.', 'type': 'tokens', 'param': None, 'code': 'rate_limit_exceeded'}}.\n",
      "Retrying llama_index.llms.openai.base.OpenAI._achat in 1.529088524788365 seconds as it raised RateLimitError: Error code: 429 - {'error': {'message': 'Rate limit reached for gpt-4o in organization org-2EY96yADGdrWYewi1eeWvTrF on tokens per min (TPM): Limit 30000, Used 28729, Requested 1758. Please try again in 973ms. Visit https://platform.openai.com/account/rate-limits to learn more.', 'type': 'tokens', 'param': None, 'code': 'rate_limit_exceeded'}}.\n",
      "Retrying llama_index.llms.openai.base.OpenAI._achat in 1.5625541986086664 seconds as it raised RateLimitError: Error code: 429 - {'error': {'message': 'Rate limit reached for gpt-4o in organization org-2EY96yADGdrWYewi1eeWvTrF on tokens per min (TPM): Limit 30000, Used 28652, Requested 1878. Please try again in 1.06s. Visit https://platform.openai.com/account/rate-limits to learn more.', 'type': 'tokens', 'param': None, 'code': 'rate_limit_exceeded'}}.\n",
      "Retrying llama_index.llms.openai.base.OpenAI._achat in 1.6896275812982817 seconds as it raised RateLimitError: Error code: 429 - {'error': {'message': 'Rate limit reached for gpt-4o in organization org-2EY96yADGdrWYewi1eeWvTrF on tokens per min (TPM): Limit 30000, Used 30000, Requested 2072. Please try again in 4.144s. Visit https://platform.openai.com/account/rate-limits to learn more.', 'type': 'tokens', 'param': None, 'code': 'rate_limit_exceeded'}}.\n",
      "Retrying llama_index.llms.openai.base.OpenAI._achat in 1.1935778613879193 seconds as it raised RateLimitError: Error code: 429 - {'error': {'message': 'Rate limit reached for gpt-4o in organization org-2EY96yADGdrWYewi1eeWvTrF on tokens per min (TPM): Limit 30000, Used 30000, Requested 2058. Please try again in 4.116s. Visit https://platform.openai.com/account/rate-limits to learn more.', 'type': 'tokens', 'param': None, 'code': 'rate_limit_exceeded'}}.\n",
      "Evaluating:  79%|███████▉  | 19/24 [00:37<00:18,  3.61s/it]Retrying llama_index.llms.openai.base.OpenAI._achat in 1.8171977858348947 seconds as it raised RateLimitError: Error code: 429 - {'error': {'message': 'Rate limit reached for gpt-4o in organization org-2EY96yADGdrWYewi1eeWvTrF on tokens per min (TPM): Limit 30000, Used 29420, Requested 1935. Please try again in 2.71s. Visit https://platform.openai.com/account/rate-limits to learn more.', 'type': 'tokens', 'param': None, 'code': 'rate_limit_exceeded'}}.\n",
      "Evaluating:  92%|█████████▏| 22/24 [00:51<00:07,  3.81s/it]Retrying llama_index.llms.openai.base.OpenAI._achat in 1.0 seconds as it raised RateLimitError: Error code: 429 - {'error': {'message': 'Rate limit reached for gpt-4o in organization org-2EY96yADGdrWYewi1eeWvTrF on tokens per min (TPM): Limit 30000, Used 28003, Requested 2072. Please try again in 150ms. Visit https://platform.openai.com/account/rate-limits to learn more.', 'type': 'tokens', 'param': None, 'code': 'rate_limit_exceeded'}}.\n",
      "Evaluating: 100%|██████████| 24/24 [01:05<00:00,  2.74s/it]\n"
     ]
    }
   ],
   "source": [
    "from ragas.metrics import Faithfulness, AnswerRelevancy\n",
    "from ragas.llms    import LlamaIndexLLMWrapper\n",
    "from llama_index.llms.openai import OpenAI\n",
    "from ragas.integrations.llama_index import evaluate\n",
    "\n",
    "judge   = LlamaIndexLLMWrapper(OpenAI(model=\"gpt-4o-2024-11-20\", temperature=0))\n",
    "metrics = [Faithfulness(llm=judge), AnswerRelevancy(llm=judge)]\n",
    "\n",
    "scores = evaluate(\n",
    "    query_engine=query_engine_reranker,\n",
    "    metrics=metrics,\n",
    "    dataset=eval_ds, \n",
    ")"
   ]
  },
  {
   "cell_type": "code",
   "execution_count": 7,
   "id": "093168ad",
   "metadata": {},
   "outputs": [
    {
     "data": {
      "text/plain": [
       "{'faithfulness': 0.5458, 'answer_relevancy': 0.7244}"
      ]
     },
     "execution_count": 7,
     "metadata": {},
     "output_type": "execute_result"
    }
   ],
   "source": [
    "scores"
   ]
  },
  {
   "cell_type": "code",
   "execution_count": 8,
   "id": "e47d30ce",
   "metadata": {},
   "outputs": [
    {
     "data": {
      "text/html": [
       "<div>\n",
       "<style scoped>\n",
       "    .dataframe tbody tr th:only-of-type {\n",
       "        vertical-align: middle;\n",
       "    }\n",
       "\n",
       "    .dataframe tbody tr th {\n",
       "        vertical-align: top;\n",
       "    }\n",
       "\n",
       "    .dataframe thead th {\n",
       "        text-align: right;\n",
       "    }\n",
       "</style>\n",
       "<table border=\"1\" class=\"dataframe\">\n",
       "  <thead>\n",
       "    <tr style=\"text-align: right;\">\n",
       "      <th></th>\n",
       "      <th>user_input</th>\n",
       "      <th>retrieved_contexts</th>\n",
       "      <th>response</th>\n",
       "      <th>faithfulness</th>\n",
       "      <th>answer_relevancy</th>\n",
       "    </tr>\n",
       "  </thead>\n",
       "  <tbody>\n",
       "    <tr>\n",
       "      <th>0</th>\n",
       "      <td>What is the first-line antibiotic regimen for ...</td>\n",
       "      <td>[The IDSA guidelines regarding treatment for U...</td>\n",
       "      <td>The first-line antibiotic regimen for outpatie...</td>\n",
       "      <td>1.000000</td>\n",
       "      <td>1.000000</td>\n",
       "    </tr>\n",
       "    <tr>\n",
       "      <th>1</th>\n",
       "      <td>When is dual therapy with a β-lactam plus macr...</td>\n",
       "      <td>[Beta-lactams were the regimens most commonly ...</td>\n",
       "      <td>The provided information does not address the ...</td>\n",
       "      <td>1.000000</td>\n",
       "      <td>0.000000</td>\n",
       "    </tr>\n",
       "    <tr>\n",
       "      <th>2</th>\n",
       "      <td>Recommended duration of therapy for uncomplica...</td>\n",
       "      <td>[Duration of antibiotic therapy. The Norwegian...</td>\n",
       "      <td>The recommended duration of therapy for uncomp...</td>\n",
       "      <td>0.666667</td>\n",
       "      <td>0.976710</td>\n",
       "    </tr>\n",
       "    <tr>\n",
       "      <th>3</th>\n",
       "      <td>How does recommended empiric therapy change fo...</td>\n",
       "      <td>[Despite the many factors determining the empi...</td>\n",
       "      <td>In regions with more than 25% macrolide-resist...</td>\n",
       "      <td>0.000000</td>\n",
       "      <td>0.951800</td>\n",
       "    </tr>\n",
       "    <tr>\n",
       "      <th>4</th>\n",
       "      <td>Which respiratory fluoroquinolones are accepta...</td>\n",
       "      <td>[These risk factors are associated with an inc...</td>\n",
       "      <td>Respiratory fluoroquinolones, such as levoflox...</td>\n",
       "      <td>0.333333</td>\n",
       "      <td>0.933421</td>\n",
       "    </tr>\n",
       "    <tr>\n",
       "      <th>5</th>\n",
       "      <td>What empiric coverage is advised for hospital-...</td>\n",
       "      <td>[Since they are mostly MDR pathogens, providin...</td>\n",
       "      <td>When MRSA risk factors are present in hospital...</td>\n",
       "      <td>1.000000</td>\n",
       "      <td>0.974234</td>\n",
       "    </tr>\n",
       "    <tr>\n",
       "      <th>6</th>\n",
       "      <td>First-line IV therapy for severe CAP requiring...</td>\n",
       "      <td>[18 Patients who present to the ED for care ar...</td>\n",
       "      <td>For severe community-acquired pneumonia (CAP) ...</td>\n",
       "      <td>0.000000</td>\n",
       "      <td>0.972754</td>\n",
       "    </tr>\n",
       "    <tr>\n",
       "      <th>7</th>\n",
       "      <td>Role of local antibiogram data in selecting em...</td>\n",
       "      <td>[The control arm is standard care, which consi...</td>\n",
       "      <td>Local antibiogram data plays a crucial role in...</td>\n",
       "      <td>0.250000</td>\n",
       "      <td>0.960790</td>\n",
       "    </tr>\n",
       "    <tr>\n",
       "      <th>8</th>\n",
       "      <td>When should azithromycin dose be adjusted in m...</td>\n",
       "      <td>[Dose adjustment is routinely recommended in p...</td>\n",
       "      <td>The provided information does not specifically...</td>\n",
       "      <td>0.600000</td>\n",
       "      <td>0.000000</td>\n",
       "    </tr>\n",
       "    <tr>\n",
       "      <th>9</th>\n",
       "      <td>Preferred outpatient therapy for CAP in a preg...</td>\n",
       "      <td>[It should therefore be offered to all women w...</td>\n",
       "      <td>The preferred outpatient therapy for community...</td>\n",
       "      <td>0.000000</td>\n",
       "      <td>0.963915</td>\n",
       "    </tr>\n",
       "    <tr>\n",
       "      <th>10</th>\n",
       "      <td>How does the guideline differ for treating asp...</td>\n",
       "      <td>[We found similar approaches to clinical and r...</td>\n",
       "      <td>The provided information does not specifically...</td>\n",
       "      <td>1.000000</td>\n",
       "      <td>0.000000</td>\n",
       "    </tr>\n",
       "    <tr>\n",
       "      <th>11</th>\n",
       "      <td>Recommended approach if a patient remains febr...</td>\n",
       "      <td>[After 14 days of treatment, the patients pers...</td>\n",
       "      <td>If a patient remains febrile after 48 hours of...</td>\n",
       "      <td>0.700000</td>\n",
       "      <td>0.959551</td>\n",
       "    </tr>\n",
       "  </tbody>\n",
       "</table>\n",
       "</div>"
      ],
      "text/plain": [
       "                                           user_input  \\\n",
       "0   What is the first-line antibiotic regimen for ...   \n",
       "1   When is dual therapy with a β-lactam plus macr...   \n",
       "2   Recommended duration of therapy for uncomplica...   \n",
       "3   How does recommended empiric therapy change fo...   \n",
       "4   Which respiratory fluoroquinolones are accepta...   \n",
       "5   What empiric coverage is advised for hospital-...   \n",
       "6   First-line IV therapy for severe CAP requiring...   \n",
       "7   Role of local antibiogram data in selecting em...   \n",
       "8   When should azithromycin dose be adjusted in m...   \n",
       "9   Preferred outpatient therapy for CAP in a preg...   \n",
       "10  How does the guideline differ for treating asp...   \n",
       "11  Recommended approach if a patient remains febr...   \n",
       "\n",
       "                                   retrieved_contexts  \\\n",
       "0   [The IDSA guidelines regarding treatment for U...   \n",
       "1   [Beta-lactams were the regimens most commonly ...   \n",
       "2   [Duration of antibiotic therapy. The Norwegian...   \n",
       "3   [Despite the many factors determining the empi...   \n",
       "4   [These risk factors are associated with an inc...   \n",
       "5   [Since they are mostly MDR pathogens, providin...   \n",
       "6   [18 Patients who present to the ED for care ar...   \n",
       "7   [The control arm is standard care, which consi...   \n",
       "8   [Dose adjustment is routinely recommended in p...   \n",
       "9   [It should therefore be offered to all women w...   \n",
       "10  [We found similar approaches to clinical and r...   \n",
       "11  [After 14 days of treatment, the patients pers...   \n",
       "\n",
       "                                             response  faithfulness  \\\n",
       "0   The first-line antibiotic regimen for outpatie...      1.000000   \n",
       "1   The provided information does not address the ...      1.000000   \n",
       "2   The recommended duration of therapy for uncomp...      0.666667   \n",
       "3   In regions with more than 25% macrolide-resist...      0.000000   \n",
       "4   Respiratory fluoroquinolones, such as levoflox...      0.333333   \n",
       "5   When MRSA risk factors are present in hospital...      1.000000   \n",
       "6   For severe community-acquired pneumonia (CAP) ...      0.000000   \n",
       "7   Local antibiogram data plays a crucial role in...      0.250000   \n",
       "8   The provided information does not specifically...      0.600000   \n",
       "9   The preferred outpatient therapy for community...      0.000000   \n",
       "10  The provided information does not specifically...      1.000000   \n",
       "11  If a patient remains febrile after 48 hours of...      0.700000   \n",
       "\n",
       "    answer_relevancy  \n",
       "0           1.000000  \n",
       "1           0.000000  \n",
       "2           0.976710  \n",
       "3           0.951800  \n",
       "4           0.933421  \n",
       "5           0.974234  \n",
       "6           0.972754  \n",
       "7           0.960790  \n",
       "8           0.000000  \n",
       "9           0.963915  \n",
       "10          0.000000  \n",
       "11          0.959551  "
      ]
     },
     "execution_count": 8,
     "metadata": {},
     "output_type": "execute_result"
    }
   ],
   "source": [
    "scores_df = scores.to_pandas()\n",
    "scores_df"
   ]
  },
  {
   "cell_type": "markdown",
   "id": "157d38ff",
   "metadata": {},
   "source": [
    "Now we can use these initial result to identify questions that are potentially problematic or questions that should result in high confidence\n",
    "\n",
    "# Define safety checks\n",
    "## 1. Simple source attribution for attribution scoring"
   ]
  },
  {
   "cell_type": "code",
   "execution_count": 5,
   "id": "19e762b7",
   "metadata": {},
   "outputs": [],
   "source": [
    "def check_answer_support(answer, source_chunks, encoder, DEBUG_MODE=False):\n",
    "    \"\"\"\n",
    "    Simple function to check how well an answer is supported by source chunks\n",
    "    \"\"\"\n",
    "    def debug_print(*args, **kwargs):\n",
    "        \"\"\"Print only if DEBUG_MODE is enabled.\"\"\"\n",
    "        if DEBUG_MODE:\n",
    "            print(*args, **kwargs)\n",
    "    \n",
    "    # Split answer into sentences\n",
    "    sentences = re.split(r'[.!?]+', answer)\n",
    "    sentences = [s.strip() for s in sentences if s.strip()]\n",
    "    \n",
    "    if not sentences or not source_chunks:\n",
    "        return 0.0, []\n",
    "    \n",
    "    debug_print(f\"Checking {len(sentences)} sentences against {len(source_chunks)} source chunks\")\n",
    "    \n",
    "    # Encode sentences and sources\n",
    "    answer_embeddings = encoder.encode(sentences)\n",
    "    source_embeddings = encoder.encode(source_chunks)\n",
    "    \n",
    "    sentence_scores = []\n",
    "    \n",
    "    for i, answer_emb in enumerate(answer_embeddings):\n",
    "        # Find best matching source for each sentence\n",
    "        similarities = cosine_similarity([answer_emb], source_embeddings)[0]\n",
    "        best_score = np.max(similarities)\n",
    "        sentence_scores.append(best_score)\n",
    "        \n",
    "        debug_print(f\"Sentence {i+1}: '{sentences[i][:50]}...' -> Score: {best_score:.3f}\")\n",
    "    \n",
    "    overall_score = np.mean(sentence_scores)\n",
    "    return overall_score, sentence_scores\n",
    "\n"
   ]
  },
  {
   "cell_type": "code",
   "execution_count": 10,
   "id": "7a5ebd89",
   "metadata": {},
   "outputs": [
    {
     "data": {
      "text/plain": [
       "'Preferred outpatient therapy for CAP in a pregnant patient during the second trimester?'"
      ]
     },
     "execution_count": 10,
     "metadata": {},
     "output_type": "execute_result"
    }
   ],
   "source": [
    "# Let's find a test question that had a score of 0 for faithfulness:\n",
    "scores_df['user_input'][9]"
   ]
  },
  {
   "cell_type": "code",
   "execution_count": 6,
   "id": "784bef09",
   "metadata": {},
   "outputs": [],
   "source": [
    "embed_model = \"pritamdeka/BioBERT-mnli-snli-scinli-scitail-mednli-stsb\"\n",
    "encoder = SentenceTransformer(embed_model)\n",
    "\n",
    "# Try the system using the reranker\n",
    "hard_question = \"Preferred outpatient therapy for CAP in a pregnant patient during the second trimester?\"\n",
    "response = query_engine_reranker.query(hard_question)"
   ]
  },
  {
   "cell_type": "code",
   "execution_count": 7,
   "id": "2cad3146",
   "metadata": {},
   "outputs": [
    {
     "name": "stdout",
     "output_type": "stream",
     "text": [
      "=== ATTRIBUTION CHECK ===\n",
      "\n",
      "Overall Attribution Score: 0.438\n",
      "Interpretation: Weak support - potential hallucination\n"
     ]
    }
   ],
   "source": [
    "# Extract the answer and source chunks\n",
    "answer = response.response\n",
    "source_chunks = [node.text for node in response.source_nodes]\n",
    "\n",
    "print(\"=== ATTRIBUTION CHECK ===\")\n",
    "overall_score, sentence_scores = check_answer_support(answer, source_chunks, encoder)\n",
    "print(f\"\\nOverall Attribution Score: {overall_score:.3f}\")\n",
    "print(f\"Interpretation: {'Good support' if overall_score > 0.6 else 'Weak support - potential hallucination'}\")"
   ]
  },
  {
   "cell_type": "code",
   "execution_count": 8,
   "id": "aa1bb802",
   "metadata": {},
   "outputs": [],
   "source": [
    "# Define a helper function to display the responses\n",
    "from IPython.display import Markdown, display\n",
    "import textwrap\n",
    "\n",
    "def print_response_pretty(response, wrap_width=100):\n",
    "    \"\"\"Nicely format and display model responses in a notebook\"\"\"\n",
    "    wrapped = textwrap.fill(response.strip(), width=wrap_width)\n",
    "    display(Markdown(f\"**Response:**\\n\\n\\n{wrapped}\\n\"))"
   ]
  },
  {
   "cell_type": "code",
   "execution_count": 14,
   "id": "efc7c325",
   "metadata": {},
   "outputs": [
    {
     "data": {
      "text/markdown": [
       "**Response:**\n",
       "\n",
       "\n",
       "The preferred outpatient therapy for community-acquired pneumonia (CAP) in a pregnant patient during\n",
       "the second trimester typically includes antibiotics that are safe for use during pregnancy. Options\n",
       "may include beta-lactams such as amoxicillin or amoxicillin-clavulanate, or macrolides like\n",
       "azithromycin if atypical pathogens are suspected. The choice of therapy should consider the safety\n",
       "profile of the medication for both the mother and the fetus, as well as the likely pathogens.\n"
      ],
      "text/plain": [
       "<IPython.core.display.Markdown object>"
      ]
     },
     "metadata": {},
     "output_type": "display_data"
    }
   ],
   "source": [
    "print_response_pretty(answer)"
   ]
  },
  {
   "cell_type": "markdown",
   "id": "42ef770e",
   "metadata": {},
   "source": [
    "## Find potentially problematic sentences\n",
    "Uses the same mechanism as the attribution check (cosine similarity)"
   ]
  },
  {
   "cell_type": "code",
   "execution_count": 9,
   "id": "f9977097",
   "metadata": {},
   "outputs": [],
   "source": [
    "def find_weak_sentences(answer, source_chunks, threshold=0.5):\n",
    "    \"\"\"\n",
    "    Identify sentences that might be hallucinated (poorly supported by sources)\n",
    "    \"\"\"\n",
    "    sentences = re.split(r'[.!?]+', answer)\n",
    "    sentences = [s.strip() for s in sentences if s.strip()]\n",
    "    \n",
    "    if not sentences or not source_chunks:\n",
    "        return []\n",
    "    \n",
    "    # Get similarity scores\n",
    "    answer_embeddings = encoder.encode(sentences)\n",
    "    source_embeddings = encoder.encode(source_chunks)\n",
    "    \n",
    "    weak_sentences = []\n",
    "    \n",
    "    for i, answer_emb in enumerate(answer_embeddings):\n",
    "        similarities = cosine_similarity([answer_emb], source_embeddings)[0]\n",
    "        best_score = np.max(similarities)\n",
    "        \n",
    "        if best_score < threshold:\n",
    "            weak_sentences.append({\n",
    "                'sentence': sentences[i],\n",
    "                'score': best_score,\n",
    "                'index': i\n",
    "            })\n",
    "    \n",
    "    return weak_sentences"
   ]
  },
  {
   "cell_type": "code",
   "execution_count": 10,
   "id": "673fba49",
   "metadata": {},
   "outputs": [
    {
     "name": "stdout",
     "output_type": "stream",
     "text": [
      "Potentially unsupported sentences:\n",
      "- \"The preferred outpatient therapy for community-acquired pneumonia (CAP) in a pregnant patient during the second trimester typically includes antibiotics that are safe for use during pregnancy\" (score: 0.558)\n",
      "- \"Options may include beta-lactams such as amoxicillin or amoxicillin-clavulanate, and macrolides like azithromycin if atypical pathogens are suspected\" (score: 0.285)\n",
      "- \"The choice of therapy should consider the safety profile of the medication for both the mother and the fetus, as well as the local resistance patterns and the patient's clinical condition\" (score: 0.470)\n"
     ]
    }
   ],
   "source": [
    "# Test the weak sentence detection \n",
    "weak_sentences = find_weak_sentences(answer, source_chunks, threshold=0.6)\n",
    "\n",
    "if weak_sentences:\n",
    "    print(\"Potentially unsupported sentences:\")\n",
    "    for weak in weak_sentences:\n",
    "        print(f\"- \\\"{weak['sentence']}\\\" (score: {weak['score']:.3f})\")\n",
    "else:\n",
    "    print(\"All sentences appear well-supported\")"
   ]
  },
  {
   "cell_type": "markdown",
   "id": "a5f085b8",
   "metadata": {},
   "source": [
    "None of the answer's 3 sentences is well supported by the chunks, which is another red flag\n",
    "## 2. Consistency checking"
   ]
  },
  {
   "cell_type": "code",
   "execution_count": 11,
   "id": "1620afdf",
   "metadata": {},
   "outputs": [],
   "source": [
    "def check_consistency(question, query_engine, num_tries=3, DEBUG_MODE=False):\n",
    "    \"\"\"\n",
    "    Ask the same question multiple times and check for consistency\n",
    "    \"\"\"\n",
    "\n",
    "    def debug_print(*args, **kwargs):\n",
    "        \"\"\"Print only if DEBUG_MODE is enabled.\"\"\"\n",
    "        if DEBUG_MODE:\n",
    "            print(*args, **kwargs)\n",
    "\n",
    "    debug_print(f\"Asking the same question {num_tries} times...\")\n",
    "    responses = []\n",
    "    \n",
    "    for i in range(num_tries):\n",
    "        debug_print(f\"Attempt {i+1}...\")\n",
    "        response = query_engine.query(question)\n",
    "        responses.append(response.response)\n",
    "        time.sleep(1)  # Brief pause between queries\n",
    "    \n",
    "    # Show all responses\n",
    "    debug_print(\"\\n=== ALL RESPONSES ===\")\n",
    "    for i, resp in enumerate(responses):\n",
    "        debug_print(f\"Response {i+1}: {resp[:100]}...\")\n",
    "        debug_print()\n",
    "    \n",
    "    # Calculate similarity between responses\n",
    "    if len(responses) >= 2:\n",
    "        response_embeddings = encoder.encode(responses)\n",
    "        \n",
    "        similarities = []\n",
    "        for i in range(len(response_embeddings)):\n",
    "            for j in range(i + 1, len(response_embeddings)):\n",
    "                sim = cosine_similarity([response_embeddings[i]], [response_embeddings[j]])[0][0]\n",
    "                similarities.append(sim)\n",
    "                debug_print(f\"Similarity between response {i+1} and {j+1}: {sim:.3f}\")\n",
    "        \n",
    "        avg_similarity = np.mean(similarities)\n",
    "        print(f\"\\nAverage consistency score: {avg_similarity:.3f}\")\n",
    "        \n",
    "        if avg_similarity > 0.8:\n",
    "            print(\"High consistency - responses are very similar\")\n",
    "        elif avg_similarity > 0.6:\n",
    "            print(\"Moderate consistency - some variation\")\n",
    "        else:\n",
    "            print(\"Low consistency - significant differences (potential hallucination risk)\")\n",
    "        \n",
    "        return avg_similarity, responses\n",
    "    \n",
    "    return 1.0, responses\n"
   ]
  },
  {
   "cell_type": "code",
   "execution_count": 12,
   "id": "df034d21",
   "metadata": {},
   "outputs": [
    {
     "name": "stdout",
     "output_type": "stream",
     "text": [
      "\n",
      "Average consistency score: 0.984\n",
      "High consistency - responses are very similar\n"
     ]
    }
   ],
   "source": [
    "# Test consistency\n",
    "consistency_score, all_responses = check_consistency(hard_question, query_engine_reranker)"
   ]
  },
  {
   "cell_type": "markdown",
   "id": "97acec08",
   "metadata": {},
   "source": [
    "## 3. Semantic Entropy measurement"
   ]
  },
  {
   "cell_type": "code",
   "execution_count": 13,
   "id": "426b00c5",
   "metadata": {},
   "outputs": [],
   "source": [
    "import numpy as np\n",
    "from collections import Counter\n",
    "import math\n",
    "\n",
    "def calculate_semantic_entropy(question, query_engine, encoder, num_samples=5, temperature=0.8, DEBUG_MODE=False):\n",
    "   \"\"\"\n",
    "   Calculate semantic entropy to detect hallucination uncertainty\n",
    "   Higher entropy = more uncertainty = higher hallucination risk\n",
    "   \"\"\"\n",
    "   def debug_print(*args, **kwargs):\n",
    "        \"\"\"Print only if DEBUG_MODE is enabled.\"\"\"\n",
    "        if DEBUG_MODE:\n",
    "            print(*args, **kwargs)\n",
    "            \n",
    "   debug_print(f\"CALCULATING SEMANTIC ENTROPY\")\n",
    "   debug_print(f\"Generating {num_samples} responses with temperature={temperature}\")\n",
    "   \n",
    "   # Generate multiple responses with higher temperature for diversity\n",
    "   responses = []\n",
    "   for i in range(num_samples):\n",
    "       # Temporarily increase temperature for diversity\n",
    "       original_temp = llm.temperature if hasattr(llm, 'temperature') else 0.1\n",
    "       if hasattr(llm, 'temperature'):\n",
    "           llm.temperature = temperature\n",
    "       \n",
    "       response = query_engine.query(question)\n",
    "       responses.append(response.response)\n",
    "       \n",
    "       # Restore original temperature\n",
    "       if hasattr(llm, 'temperature'):\n",
    "           llm.temperature = original_temp\n",
    "       \n",
    "       debug_print(f\"Response {i+1}: {response.response[:80]}...\")\n",
    "   \n",
    "   # Sentence-level semantic clustering\n",
    "   semantic_entropy = calculate_sentence_semantic_entropy(responses, encoder)\n",
    "   \n",
    "   # Interpretation\n",
    "   if semantic_entropy > 2.0:\n",
    "       interpretation = \"HIGH uncertainty - likely hallucination\"\n",
    "       confidence = \"LOW\"\n",
    "   elif semantic_entropy > 1.0:\n",
    "       interpretation = \"MEDIUM uncertainty - review recommended\"\n",
    "       confidence = \"MEDIUM\"\n",
    "   else:\n",
    "       interpretation = \"LOW uncertainty - confident answer\"\n",
    "       confidence = \"HIGH\"\n",
    "   \n",
    "   print(f\"\\nSemantic Entropy Score: {semantic_entropy:.3f}\")\n",
    "   print(f\"Interpretation: {interpretation}\")\n",
    "   \n",
    "   return {\n",
    "       'semantic_entropy': semantic_entropy,\n",
    "       'responses': responses,\n",
    "       'interpretation': interpretation,\n",
    "       'high_uncertainty': semantic_entropy > 1.5,\n",
    "       'confidence': confidence\n",
    "   }\n",
    "\n",
    "def calculate_sentence_semantic_entropy(responses, encoder):\n",
    "   \"\"\"Calculate entropy based on semantic clustering of sentences\"\"\"\n",
    "   \n",
    "   # Extract all sentences from all responses\n",
    "   all_sentences = []\n",
    "   for response in responses:\n",
    "       sentences = re.split(r'[.!?]+', response)\n",
    "       sentences = [s.strip() for s in sentences if s.strip() and len(s) > 10]\n",
    "       all_sentences.extend(sentences)\n",
    "   \n",
    "   if len(all_sentences) < 2:\n",
    "       return 0.0\n",
    "   \n",
    "   # Encode sentences\n",
    "   #encoder = SentenceTransformer(\"all-MiniLM-L6-v2\")\n",
    "   embeddings = encoder.encode(all_sentences)\n",
    "   \n",
    "   # Simple clustering based on similarity threshold\n",
    "   clusters = []\n",
    "   used_indices = set()\n",
    "   similarity_threshold = 0.7\n",
    "   \n",
    "   for i, emb_i in enumerate(embeddings):\n",
    "       if i in used_indices:\n",
    "           continue\n",
    "           \n",
    "       cluster = [i]\n",
    "       used_indices.add(i)\n",
    "       \n",
    "       for j, emb_j in enumerate(embeddings):\n",
    "           if j <= i or j in used_indices:\n",
    "               continue\n",
    "               \n",
    "           similarity = cosine_similarity([emb_i], [emb_j])[0][0]\n",
    "           if similarity > similarity_threshold:\n",
    "               cluster.append(j)\n",
    "               used_indices.add(j)\n",
    "       \n",
    "       clusters.append(cluster)\n",
    "   \n",
    "   # Calculate entropy based on cluster sizes\n",
    "   cluster_sizes = [len(cluster) for cluster in clusters]\n",
    "   total_sentences = len(all_sentences)\n",
    "   \n",
    "   # Calculate Shannon entropy\n",
    "   entropy = 0.0\n",
    "   for size in cluster_sizes:\n",
    "       prob = size / total_sentences\n",
    "       if prob > 0:\n",
    "           entropy -= prob * math.log2(prob)\n",
    "   \n",
    "   return entropy"
   ]
  },
  {
   "cell_type": "code",
   "execution_count": 14,
   "id": "def964ad",
   "metadata": {},
   "outputs": [
    {
     "name": "stdout",
     "output_type": "stream",
     "text": [
      "\n",
      "Semantic Entropy Score: 3.102\n",
      "Interpretation: HIGH uncertainty - likely hallucination\n"
     ]
    }
   ],
   "source": [
    "# Test with your query engine\n",
    "entropy_result = calculate_semantic_entropy(hard_question, query_engine_reranker, encoder, num_samples=4)"
   ]
  },
  {
   "cell_type": "code",
   "execution_count": 83,
   "id": "3be440b3",
   "metadata": {},
   "outputs": [
    {
     "data": {
      "text/plain": [
       "{'semantic_entropy': 2.374556048381884,\n",
       " 'responses': ['The preferred outpatient therapy for community-acquired pneumonia (CAP) in a pregnant patient during the second trimester typically includes the use of antibiotics that are safe in pregnancy. Options may include a beta-lactam antibiotic (such as amoxicillin or amoxicillin-clavulanate) combined with a macrolide (such as azithromycin) if atypical pathogens are suspected. Alternatively, monotherapy with a macrolide like azithromycin might be considered in patients without significant comorbidities or risks for resistant pathogens. The choice of treatment should prioritize the safety of both the mother and fetus while addressing the likely pathogens. Always consult with a healthcare provider for the most appropriate therapy.',\n",
       "  'The preferred outpatient therapy for community-acquired pneumonia (CAP) in a pregnant patient during the second trimester should prioritize medications that are safe for both the mother and the fetus. Beta-lactams (such as amoxicillin or amoxicillin-clavulanate) are generally considered safe and effective. If atypical pathogens are suspected, macrolides like azithromycin are commonly used due to their safety in pregnancy. Therapy should always be guided by clinical presentation, local resistance patterns, and consultation with a healthcare provider.',\n",
       "  'The preferred outpatient therapy for community-acquired pneumonia (CAP) in a pregnant patient during the second trimester is typically a beta-lactam antibiotic like amoxicillin, or a combination of a beta-lactam with a macrolide (e.g., azithromycin) if atypical pathogens are suspected. Antibiotics should always be chosen with consideration for safety during pregnancy and the specific clinical scenario.',\n",
       "  'The preferred outpatient therapy for community-acquired pneumonia (CAP) in a pregnant patient during the second trimester typically includes antibiotics that are safe for use during pregnancy. Options such as beta-lactams (e.g., amoxicillin or amoxicillin-clavulanate) and macrolides (e.g., azithromycin) are often recommended, depending on the presence of risk factors or comorbidities. These antibiotics are generally considered safe and effective for treating CAP in pregnancy.'],\n",
       " 'interpretation': 'HIGH uncertainty - likely hallucination',\n",
       " 'high_uncertainty': True,\n",
       " 'confidence': 'LOW'}"
      ]
     },
     "execution_count": 83,
     "metadata": {},
     "output_type": "execute_result"
    }
   ],
   "source": [
    "entropy_result"
   ]
  },
  {
   "cell_type": "code",
   "execution_count": 15,
   "id": "94bac6b7",
   "metadata": {},
   "outputs": [],
   "source": [
    "# Let's print all responses in a readable way\n",
    "def print_responses_pretty(responses, wrap_width=100):\n",
    "    \"\"\"Nicely format and display model responses in a notebook\"\"\"\n",
    "    for i, r in enumerate(responses, 1):\n",
    "        wrapped = textwrap.fill(r.strip(), width=wrap_width)\n",
    "        display(Markdown(f\"**Response {i}:**\\n\\n```\\n{wrapped}\\n```\"))\n"
   ]
  },
  {
   "cell_type": "code",
   "execution_count": 16,
   "id": "baa9ef9d",
   "metadata": {},
   "outputs": [
    {
     "data": {
      "text/markdown": [
       "**Response 1:**\n",
       "\n",
       "```\n",
       "The preferred outpatient therapy for community-acquired pneumonia (CAP) in a pregnant patient during\n",
       "the second trimester would typically involve antibiotics that are safe during pregnancy. Options\n",
       "like beta-lactams (e.g., amoxicillin or amoxicillin-clavulanate) or macrolides (e.g., azithromycin)\n",
       "could be considered, depending on the patient's clinical situation and allergy status. It is\n",
       "essential to avoid medications that are contraindicated during pregnancy and ensure the treatment is\n",
       "tailored to the patient's needs while protecting maternal and fetal health.\n",
       "```"
      ],
      "text/plain": [
       "<IPython.core.display.Markdown object>"
      ]
     },
     "metadata": {},
     "output_type": "display_data"
    },
    {
     "data": {
      "text/markdown": [
       "**Response 2:**\n",
       "\n",
       "```\n",
       "The preferred outpatient therapy for community-acquired pneumonia (CAP) in a pregnant patient during\n",
       "the second trimester typically includes antibiotics that are both effective against CAP pathogens\n",
       "and considered safe during pregnancy. Beta-lactams such as amoxicillin or amoxicillin-clavulanate\n",
       "are commonly used. If atypical pathogens like *Mycoplasma pneumoniae* or *Chlamydia pneumoniae* are\n",
       "suspected, a macrolide such as azithromycin can be considered, as it is generally regarded as safe\n",
       "during pregnancy. Care should always be taken to select medications based on the patient’s specific\n",
       "clinical presentation and in consultation with their healthcare provider.\n",
       "```"
      ],
      "text/plain": [
       "<IPython.core.display.Markdown object>"
      ]
     },
     "metadata": {},
     "output_type": "display_data"
    },
    {
     "data": {
      "text/markdown": [
       "**Response 3:**\n",
       "\n",
       "```\n",
       "The preferred outpatient therapy for community-acquired pneumonia (CAP) in a pregnant patient during\n",
       "the second trimester generally includes the use of beta-lactams such as amoxicillin or amoxicillin-\n",
       "clavulanate. If atypical pathogens like Mycoplasma pneumoniae or Chlamydia pneumoniae are suspected,\n",
       "azithromycin (a macrolide) is often recommended, as it is considered safe in pregnancy.\n",
       "Fluoroquinolones and tetracyclines are not preferred due to potential adverse effects on fetal\n",
       "development. Therapy should always be guided by clinical judgment and adjusted based on patient-\n",
       "specific factors.\n",
       "```"
      ],
      "text/plain": [
       "<IPython.core.display.Markdown object>"
      ]
     },
     "metadata": {},
     "output_type": "display_data"
    },
    {
     "data": {
      "text/markdown": [
       "**Response 4:**\n",
       "\n",
       "```\n",
       "The preferred outpatient therapy for community-acquired pneumonia (CAP) in a pregnant patient during\n",
       "the second trimester would be a beta-lactam antibiotic, such as amoxicillin, or a combination of\n",
       "amoxicillin with a macrolide like azithromycin, depending on bacterial coverage needs. Macrolides\n",
       "(e.g., azithromycin) are generally considered safe during pregnancy and may be added for atypical\n",
       "organism coverage. It is crucial to avoid antibiotics known to be teratogenic and ensure the\n",
       "treatment aligns with pregnancy safety guidelines.\n",
       "```"
      ],
      "text/plain": [
       "<IPython.core.display.Markdown object>"
      ]
     },
     "metadata": {},
     "output_type": "display_data"
    }
   ],
   "source": [
    "print_responses_pretty(entropy_result['responses'])"
   ]
  },
  {
   "cell_type": "code",
   "execution_count": 87,
   "id": "2831774b",
   "metadata": {},
   "outputs": [
    {
     "data": {
      "text/plain": [
       "'What is the first-line antibiotic regimen for outpatient treatment of uncomplicated community-acquired bacterial pneumonia in an adult with no comorbidities?'"
      ]
     },
     "execution_count": 87,
     "metadata": {},
     "output_type": "execute_result"
    }
   ],
   "source": [
    "# Let's try on a question that had a high faithfulness and high relevancy\n",
    "scores_df['user_input'][0]"
   ]
  },
  {
   "cell_type": "code",
   "execution_count": 88,
   "id": "35a9a648",
   "metadata": {},
   "outputs": [
    {
     "name": "stdout",
     "output_type": "stream",
     "text": [
      "\n",
      "Semantic Entropy Score: 0.000\n",
      "Interpretation: LOW uncertainty - confident answer\n"
     ]
    }
   ],
   "source": [
    "# Test semantic entropy on a sample question\n",
    "sample_question = \"What is the first-line antibiotic regimen for outpatient treatment of uncomplicated community-acquired bacterial pneumonia in an adult with no comorbidities?\"\n",
    "entropy_result_2 = calculate_semantic_entropy(sample_question, query_engine_reranker, encoder, num_samples=4)"
   ]
  },
  {
   "cell_type": "code",
   "execution_count": 90,
   "id": "6fb4096f",
   "metadata": {},
   "outputs": [
    {
     "data": {
      "text/markdown": [
       "**Response 1:**\n",
       "\n",
       "```\n",
       "The first-line antibiotic regimen for outpatient treatment of uncomplicated community-acquired\n",
       "bacterial pneumonia in an adult with no comorbidities includes oral amoxicillin, macrolides, or\n",
       "doxycycline.\n",
       "```"
      ],
      "text/plain": [
       "<IPython.core.display.Markdown object>"
      ]
     },
     "metadata": {},
     "output_type": "display_data"
    },
    {
     "data": {
      "text/markdown": [
       "**Response 2:**\n",
       "\n",
       "```\n",
       "The first-line antibiotic regimen for outpatient treatment of uncomplicated community-acquired\n",
       "bacterial pneumonia in an adult with no comorbidities includes oral amoxicillin, macrolides, or\n",
       "doxycycline.\n",
       "```"
      ],
      "text/plain": [
       "<IPython.core.display.Markdown object>"
      ]
     },
     "metadata": {},
     "output_type": "display_data"
    },
    {
     "data": {
      "text/markdown": [
       "**Response 3:**\n",
       "\n",
       "```\n",
       "The first-line antibiotic regimen for outpatient treatment of uncomplicated community-acquired\n",
       "bacterial pneumonia in an adult with no comorbidities includes oral amoxicillin, macrolides, or\n",
       "doxycycline.\n",
       "```"
      ],
      "text/plain": [
       "<IPython.core.display.Markdown object>"
      ]
     },
     "metadata": {},
     "output_type": "display_data"
    },
    {
     "data": {
      "text/markdown": [
       "**Response 4:**\n",
       "\n",
       "```\n",
       "The first-line antibiotic regimen for outpatient treatment of uncomplicated community-acquired\n",
       "bacterial pneumonia in an adult with no comorbidities includes oral amoxicillin, macrolides, or\n",
       "doxycycline.\n",
       "```"
      ],
      "text/plain": [
       "<IPython.core.display.Markdown object>"
      ]
     },
     "metadata": {},
     "output_type": "display_data"
    }
   ],
   "source": [
    "print_responses_pretty(entropy_result_2['responses'])"
   ]
  },
  {
   "cell_type": "code",
   "execution_count": 93,
   "id": "13a73141",
   "metadata": {},
   "outputs": [
    {
     "data": {
      "text/plain": [
       "'Recommended approach if a patient remains febrile after 48 h of appropriate CAP therapy?'"
      ]
     },
     "execution_count": 93,
     "metadata": {},
     "output_type": "execute_result"
    }
   ],
   "source": [
    "# Now, let's take a look at a question that had moderate scores using ragas\n",
    "scores_df['user_input'][11]"
   ]
  },
  {
   "cell_type": "code",
   "execution_count": 94,
   "id": "f5454395",
   "metadata": {},
   "outputs": [
    {
     "name": "stdout",
     "output_type": "stream",
     "text": [
      "\n",
      "Semantic Entropy Score: 2.425\n",
      "Interpretation: HIGH uncertainty - likely hallucination\n"
     ]
    }
   ],
   "source": [
    "moderate_score_question = \"Recommended approach if a patient remains febrile after 48 h of appropriate CAP therapy?\"\n",
    "entropy_result_3 = calculate_semantic_entropy(moderate_score_question, query_engine_reranker, encoder, num_samples=4)"
   ]
  },
  {
   "cell_type": "code",
   "execution_count": 95,
   "id": "cfd1609e",
   "metadata": {},
   "outputs": [
    {
     "data": {
      "text/markdown": [
       "**Response 1:**\n",
       "\n",
       "```\n",
       "If a patient remains febrile after 48 hours of appropriate therapy for community-acquired pneumonia\n",
       "(CAP), it is recommended to reassess the patient. This includes evaluating for potential\n",
       "complications, such as pleural effusion or abscess, through imaging studies like chest radiographs\n",
       "or ultrasounds. Additionally, laboratory markers such as C-reactive protein (CRP) and white blood\n",
       "cell counts can be useful in assessing ongoing infection or inflammation. A multidisciplinary\n",
       "discussion involving specialists, such as a pulmonologist or infectious disease expert, may also be\n",
       "considered to guide further management, including adjustments in therapy or additional\n",
       "interventions.\n",
       "```"
      ],
      "text/plain": [
       "<IPython.core.display.Markdown object>"
      ]
     },
     "metadata": {},
     "output_type": "display_data"
    },
    {
     "data": {
      "text/markdown": [
       "**Response 2:**\n",
       "\n",
       "```\n",
       "If a patient remains febrile after 48 hours of appropriate therapy for community-acquired pneumonia\n",
       "(CAP), it is recommended to reassess the clinical situation. This may involve evaluating for\n",
       "complications (e.g., pleural effusion, abscess), assessing adherence to the guideline-recommended\n",
       "therapy duration, and considering additional diagnostic investigations such as imaging (e.g., chest\n",
       "X-ray, CT scan) or laboratory tests (e.g., CRP, white blood cell count). Multidisciplinary\n",
       "discussions and adjustments to the treatment plan, such as extending therapy duration or addressing\n",
       "complications conservatively or invasively, may also be necessary based on findings.\n",
       "```"
      ],
      "text/plain": [
       "<IPython.core.display.Markdown object>"
      ]
     },
     "metadata": {},
     "output_type": "display_data"
    },
    {
     "data": {
      "text/markdown": [
       "**Response 3:**\n",
       "\n",
       "```\n",
       "If a patient remains febrile after 48 hours of appropriate therapy for community-acquired pneumonia\n",
       "(CAP), it is recommended to reassess the clinical situation. This could include evaluating for\n",
       "potential complications like pleural effusion or abscess formation, considering alternative\n",
       "diagnoses, and ensuring the choice of antibiotics aligns with current guidelines and susceptibility\n",
       "data. Imaging studies and further clinical or biochemical assessments, such as repeat chest\n",
       "radiographs, CRP levels, or white blood cell counts, could guide decisions on whether additional\n",
       "interventions, such as drainage procedures or a change in therapy, are necessary.\n",
       "```"
      ],
      "text/plain": [
       "<IPython.core.display.Markdown object>"
      ]
     },
     "metadata": {},
     "output_type": "display_data"
    },
    {
     "data": {
      "text/markdown": [
       "**Response 4:**\n",
       "\n",
       "```\n",
       "If a patient remains febrile after 48 hours of appropriate therapy for community-acquired pneumonia\n",
       "(CAP), the recommended approach includes evaluating clinical and biochemical factors such as\n",
       "persistent fever, rising C-reactive protein (CRP), or white blood cell count, as well as reviewing\n",
       "imaging results like chest radiographs or ultrasounds to assess for complications such as unresolved\n",
       "infections, pleural effusions, or abscesses. Additional diagnostic tests or adjustments to the\n",
       "treatment plan, such as extending therapy duration, changing antibiotics, or considering pleural\n",
       "interventions (e.g., thoracentesis or chest tube placement), may be needed based on the patient's\n",
       "clinical status. Multidisciplinary discussions can also be helpful for determining the most\n",
       "appropriate course of action.\n",
       "```"
      ],
      "text/plain": [
       "<IPython.core.display.Markdown object>"
      ]
     },
     "metadata": {},
     "output_type": "display_data"
    }
   ],
   "source": [
    "print_responses_pretty(entropy_result_3['responses'])"
   ]
  },
  {
   "cell_type": "markdown",
   "id": "c99eaf36",
   "metadata": {},
   "source": [
    "# Enhance the retrieval with multi-stage retrieval\n",
    "## 1. breakdown the query"
   ]
  },
  {
   "cell_type": "code",
   "execution_count": 17,
   "id": "4a490435",
   "metadata": {},
   "outputs": [],
   "source": [
    "def break_down_query(complex_question, llm, DEBUG_MODE=False):\n",
    "    \"\"\"\n",
    "    Break a complex medical question into simpler parts\n",
    "    \"\"\"\n",
    "    def debug_print(*args, **kwargs):\n",
    "        \"\"\"Print only if DEBUG_MODE is enabled.\"\"\"\n",
    "        if DEBUG_MODE:\n",
    "            print(*args, **kwargs)\n",
    "\n",
    "    prompt = f\"\"\"\n",
    "You are a medical librarian. Break down this complex medical question into 2-4 simpler, specific questions that together would provide a complete answer.\n",
    "\n",
    "Complex question: {complex_question}\n",
    "\n",
    "Provide the simpler questions as a numbered list:\n",
    "1. \n",
    "2. \n",
    "3. \n",
    "4. \n",
    "\"\"\"\n",
    "    \n",
    "    response = llm.complete(prompt)\n",
    "    debug_print(\"=== QUERY BREAKDOWN ===\")\n",
    "    debug_print(response.text)\n",
    "    \n",
    "    # Extract the sub-questions\n",
    "    lines = response.text.strip().split('\\n')\n",
    "    sub_questions = []\n",
    "    \n",
    "    for line in lines:\n",
    "        line = line.strip()\n",
    "        if line and (line[0].isdigit() or line.startswith('-')):\n",
    "            # Remove numbering\n",
    "            clean_question = re.sub(r'^[\\d\\-\\.\\)\\s]+', '', line).strip()\n",
    "            if clean_question:\n",
    "                sub_questions.append(clean_question)\n",
    "    \n",
    "    return sub_questions\n",
    "\n"
   ]
  },
  {
   "cell_type": "code",
   "execution_count": 18,
   "id": "3d39e397",
   "metadata": {},
   "outputs": [
    {
     "name": "stdout",
     "output_type": "stream",
     "text": [
      "\n",
      "Extracted 4 sub-questions:\n",
      "1. What are the common antibiotics that interact with warfarin, and what is the mechanism of these interactions?\n",
      "2. How do these interactions affect the efficacy and safety of warfarin in elderly patients?\n",
      "3. What specific monitoring or laboratory tests are recommended when warfarin and antibiotics are used together?\n",
      "4. How should warfarin dosing be adjusted in elderly patients when they are prescribed interacting antibiotics?\n"
     ]
    }
   ],
   "source": [
    "# Test with a complex medical question\n",
    "complex_question = \"What are the drug interactions between warfarin and antibiotics in elderly patients, and how should the dosing be adjusted?\"\n",
    "\n",
    "sub_questions = break_down_query(complex_question, llm)\n",
    "print(f\"\\nExtracted {len(sub_questions)} sub-questions:\")\n",
    "for i, q in enumerate(sub_questions):\n",
    "    print(f\"{i+1}. {q}\")"
   ]
  },
  {
   "cell_type": "markdown",
   "id": "88fcf909",
   "metadata": {},
   "source": [
    "## 2. Multi-stage information gathering"
   ]
  },
  {
   "cell_type": "code",
   "execution_count": 19,
   "id": "1ad3db27",
   "metadata": {},
   "outputs": [],
   "source": [
    "def multi_stage_retrieval(complex_question, query_engine, llm, DEBUG_MODE=False):\n",
    "    \"\"\"\n",
    "    Perform multi-stage retrieval for complex questions\n",
    "    \"\"\"\n",
    "    def debug_print(*args, **kwargs):\n",
    "        \"\"\"Print only if DEBUG_MODE is enabled.\"\"\"\n",
    "        if DEBUG_MODE:\n",
    "            print(*args, **kwargs)\n",
    "\n",
    "    debug_print(\"MULTI-STAGE RETRIEVAL\")\n",
    "    debug_print(\"=\" * 50)\n",
    "    \n",
    "    # Step 1: Break down the question\n",
    "    sub_questions = break_down_query(complex_question, llm)\n",
    "    \n",
    "    # Step 2: Get answers for each sub-question\n",
    "    sub_answers = []\n",
    "    all_sources = []\n",
    "    \n",
    "    for i, sub_q in enumerate(sub_questions):\n",
    "        debug_print(f\"\\n--- Sub-question {i+1}: {sub_q} ---\")\n",
    "        \n",
    "        response = query_engine.query(sub_q)\n",
    "        sub_answer = response.response\n",
    "        sources = response.source_nodes\n",
    "        \n",
    "        debug_print(f\"Answer: {sub_answer[:150]}...\")\n",
    "        \n",
    "        sub_answers.append({\n",
    "            'question': sub_q,\n",
    "            'answer': sub_answer,\n",
    "            'sources': sources\n",
    "        })\n",
    "        \n",
    "        # Collect unique sources\n",
    "        for source in sources:\n",
    "            if source.text not in [s.text for s in all_sources]:\n",
    "                all_sources.append(source)\n",
    "    \n",
    "    # Step 3: Synthesize final answer\n",
    "    debug_print(f\"\\nSYNTHESIZING FINAL ANSWER\")\n",
    "    context = \"\"\n",
    "    for i, sub in enumerate(sub_answers):\n",
    "        context += f\"Sub-question {i+1}: {sub['question']}\\n\"\n",
    "        context += f\"Answer: {sub['answer']}\\n\\n\"\n",
    "    \n",
    "    synthesis_prompt = f\"\"\"\n",
    "Based on the following information, provide a comprehensive answer to the original question.\n",
    "\n",
    "Original question: {complex_question}\n",
    "\n",
    "Information gathered:\n",
    "{context}\n",
    "\n",
    "Instructions:\n",
    "- Combine the information into one coherent answer\n",
    "- Only use the information provided above\n",
    "- If there are contradictions, mention them\n",
    "- Be specific and cite relevant details\n",
    "\n",
    "Comprehensive answer:\n",
    "\"\"\"\n",
    "    \n",
    "    final_response = llm.complete(synthesis_prompt)\n",
    "    final_answer = final_response.text\n",
    "    \n",
    "    debug_print(\"Final synthesized answer:\")\n",
    "    debug_print(final_answer)\n",
    "    \n",
    "    return {\n",
    "        'original_question': complex_question,\n",
    "        'sub_questions': sub_questions,\n",
    "        'sub_answers': sub_answers,\n",
    "        'final_answer': final_answer,\n",
    "        'all_sources': all_sources\n",
    "    }\n",
    "\n"
   ]
  },
  {
   "cell_type": "code",
   "execution_count": 99,
   "id": "3216139f",
   "metadata": {},
   "outputs": [],
   "source": [
    "# Test multi-stage retrieval\n",
    "multi_stage_result = multi_stage_retrieval(complex_question, query_engine_reranker, llm)"
   ]
  },
  {
   "cell_type": "code",
   "execution_count": 100,
   "id": "1a875436",
   "metadata": {},
   "outputs": [
    {
     "name": "stdout",
     "output_type": "stream",
     "text": [
      "\n",
      "Semantic Entropy Score: 2.000\n",
      "Interpretation: MEDIUM uncertainty - review recommended\n"
     ]
    }
   ],
   "source": [
    "entropy_result_multistage = calculate_semantic_entropy(complex_question, query_engine_reranker, encoder, num_samples=4)"
   ]
  },
  {
   "cell_type": "code",
   "execution_count": 101,
   "id": "232ceb7b",
   "metadata": {},
   "outputs": [
    {
     "data": {
      "text/markdown": [
       "**Response 1:**\n",
       "\n",
       "```\n",
       "The provided information does not discuss the specific drug interactions between warfarin and\n",
       "antibiotics in elderly patients or recommendations for dose adjustment. For accurate dosing and\n",
       "monitoring of interactions, particularly in elderly patients, consultation with healthcare\n",
       "professionals and individual patient assessment are essential.\n",
       "```"
      ],
      "text/plain": [
       "<IPython.core.display.Markdown object>"
      ]
     },
     "metadata": {},
     "output_type": "display_data"
    },
    {
     "data": {
      "text/markdown": [
       "**Response 2:**\n",
       "\n",
       "```\n",
       "The provided information does not address interactions between warfarin and antibiotics, nor does it\n",
       "provide specific guidance on dosing adjustments for such interactions in elderly patients. For\n",
       "information on this topic, it would be important to consult clinical guidelines or pharmacological\n",
       "resources specifically focused on drug interactions involving warfarin and antibiotics.\n",
       "```"
      ],
      "text/plain": [
       "<IPython.core.display.Markdown object>"
      ]
     },
     "metadata": {},
     "output_type": "display_data"
    },
    {
     "data": {
      "text/markdown": [
       "**Response 3:**\n",
       "\n",
       "```\n",
       "The provided information does not address the specific interactions between warfarin and antibiotics\n",
       "in elderly patients or how their dosing should be adjusted.\n",
       "```"
      ],
      "text/plain": [
       "<IPython.core.display.Markdown object>"
      ]
     },
     "metadata": {},
     "output_type": "display_data"
    },
    {
     "data": {
      "text/markdown": [
       "**Response 4:**\n",
       "\n",
       "```\n",
       "The provided information does not specifically address the interactions between warfarin and\n",
       "antibiotics in elderly patients or provide guidance on dosing adjustments. It discusses issues\n",
       "related to augmented renal clearance (ARC) and the pharmacokinetic and pharmacodynamic\n",
       "considerations of antibiotics in critically ill patients, but it does not explore warfarin or its\n",
       "interactions with antibiotics. For accurate guidance, consulting clinical guidelines or a healthcare\n",
       "professional is recommended.\n",
       "```"
      ],
      "text/plain": [
       "<IPython.core.display.Markdown object>"
      ]
     },
     "metadata": {},
     "output_type": "display_data"
    }
   ],
   "source": [
    "print_responses_pretty(entropy_result_multistage['responses'])"
   ]
  },
  {
   "cell_type": "markdown",
   "id": "0837e41d",
   "metadata": {},
   "source": [
    "# Putting it all together - define a comprehensive safety check function"
   ]
  },
  {
   "cell_type": "code",
   "execution_count": 20,
   "id": "53877445",
   "metadata": {},
   "outputs": [],
   "source": [
    "def comprehensive_safety_check(question, query_engine, llm, use_multi_stage=False, DEBUG_MODE=False):\n",
    "    \"\"\"\n",
    "    Perform comprehensive safety checking on a RAG response\n",
    "    \"\"\"\n",
    "    def debug_print(*args, **kwargs):\n",
    "        \"\"\"Print only if DEBUG_MODE is enabled.\"\"\"\n",
    "        if DEBUG_MODE:\n",
    "            print(*args, **kwargs)\n",
    "\n",
    "    print(\"COMPREHENSIVE MEDICAL RAG SAFETY CHECK\")\n",
    "    print(\"=\" * 60)\n",
    "\n",
    "    # Step 1: Get the answer\n",
    "    if use_multi_stage:\n",
    "        print(\"Using multi-stage retrieval...\")\n",
    "        result = multi_stage_retrieval(question, query_engine, llm)\n",
    "        answer = result[\"final_answer\"]\n",
    "        source_chunks = [node.text for node in result[\"all_sources\"]]\n",
    "    else:\n",
    "        print(\"Using standard retrieval...\")\n",
    "        response = query_engine.query(question)\n",
    "        answer = response.response\n",
    "        source_chunks = [node.text for node in response.source_nodes]\n",
    "\n",
    "    debug_print(f\"\\nQuestion: {question}\")\n",
    "    debug_print(f\"Answer: {answer[:200]}...\")\n",
    "\n",
    "    # Step 2: Attribution check\n",
    "    debug_print(f\"\\nATTRIBUTION CHECK\")\n",
    "    attribution_score, _ = check_answer_support(answer, source_chunks, encoder)\n",
    "\n",
    "    # Step 3: Consistency check\n",
    "    debug_print(f\"\\nCONSISTENCY CHECK\")\n",
    "    consistency_score, _ = check_consistency(question, query_engine, num_tries=2)\n",
    "\n",
    "    # Step 4: Find weak sentences\n",
    "    debug_print(f\"\\nWEAK SENTENCE DETECTION\")\n",
    "    weak_sentences = find_weak_sentences(answer, source_chunks)\n",
    "\n",
    "    # Show warnings\n",
    "    if weak_sentences:\n",
    "        debug_print(f\"\\nPOTENTIAL ISSUES:\")\n",
    "        for weak in weak_sentences:\n",
    "            debug_print(f\"- Weak support: \\\"{weak['sentence'][:100]}...\\\"\")\n",
    "    else:\n",
    "        debug_print(f\"\\nNo weak sentences found\")\n",
    "\n",
    "    # Step 5: Calculate semantic entropy\n",
    "    entropy_result = calculate_semantic_entropy(\n",
    "            question, query_engine, encoder, num_samples=3\n",
    "        )\n",
    "    semantic_entropy = entropy_result['semantic_entropy']\n",
    "\n",
    "    # Step 6: Overall safety assessment\n",
    "    print(f\"\\nOVERALL SAFETY ASSESSMENT\")\n",
    "    print(\"=\" * 40)\n",
    "\n",
    "    safety_score = 0\n",
    "    max_score = 3\n",
    "\n",
    "    print(f\"Attribution Score: {attribution_score:.3f}\")\n",
    "    if attribution_score > 0.6:\n",
    "        safety_score += 1\n",
    "        print(\"Good source attribution\")\n",
    "    else:\n",
    "        print(\"Weak source attribution\")\n",
    "\n",
    "    print(f\"Consistency Score: {consistency_score:.3f}\")\n",
    "    if consistency_score > 0.6:\n",
    "        safety_score += 1\n",
    "        print(\"Good consistency\")\n",
    "    else:\n",
    "        print(\"Low consistency\")\n",
    "\n",
    "    print(f\"Semantic entropy score: {semantic_entropy:.3f}\")\n",
    "    if entropy_result['confidence'] == \"HIGH\":\n",
    "        safety_score += 1\n",
    "        print(\"Good semantic entropy\")\n",
    "    else:\n",
    "        print(\"High semantic entropy\")\n",
    "    \n",
    "\n",
    "\n",
    "    # Final confidence level\n",
    "    if safety_score == max_score:\n",
    "        confidence = \"HIGH CONFIDENCE\"\n",
    "    elif safety_score >= 2:\n",
    "        confidence = \"MEDIUM CONFIDENCE\"\n",
    "    else:\n",
    "        confidence = \"LOW CONFIDENCE\"\n",
    "\n",
    "    print(f\"\\nFinal Assessment: {confidence}\")\n",
    "\n",
    "    print(f\"\\nMedical Disclaimer: This information is for educational purposes only.\")\n",
    "\n",
    "    return {\n",
    "        \"question\": question,\n",
    "        \"answer\": answer,\n",
    "        \"attribution_score\": attribution_score,\n",
    "        \"consistency_score\": consistency_score,\n",
    "        \"semantic_entropy\": semantic_entropy,\n",
    "        \"weak_sentences\": weak_sentences,\n",
    "        \"safety_score\": safety_score,\n",
    "        \"confidence\": confidence,\n",
    "    }"
   ]
  },
  {
   "cell_type": "code",
   "execution_count": 21,
   "id": "7ec04997",
   "metadata": {},
   "outputs": [
    {
     "name": "stdout",
     "output_type": "stream",
     "text": [
      "COMPREHENSIVE MEDICAL RAG SAFETY CHECK\n",
      "============================================================\n",
      "Using standard retrieval...\n",
      "\n",
      "Average consistency score: 0.979\n",
      "High consistency - responses are very similar\n",
      "\n",
      "Semantic Entropy Score: 1.500\n",
      "Interpretation: MEDIUM uncertainty - review recommended\n",
      "\n",
      "OVERALL SAFETY ASSESSMENT\n",
      "========================================\n",
      "Attribution Score: 0.608\n",
      "Good source attribution\n",
      "Consistency Score: 0.979\n",
      "Good consistency\n",
      "Semantic entropy score: 1.500\n",
      "High semantic entropy\n",
      "\n",
      "Final Assessment: MEDIUM CONFIDENCE\n",
      "\n",
      "Medical Disclaimer: This information is for educational purposes only.\n"
     ]
    }
   ],
   "source": [
    "# Test the comprehensive safety check\n",
    "test_question = \"What antibiotics are safe to use with warfarin in elderly patients?\"\n",
    "safety_result = comprehensive_safety_check(test_question, query_engine_reranker, llm, use_multi_stage=False)"
   ]
  },
  {
   "cell_type": "code",
   "execution_count": 107,
   "id": "70f5cb95",
   "metadata": {},
   "outputs": [
    {
     "name": "stdout",
     "output_type": "stream",
     "text": [
      "COMPREHENSIVE MEDICAL RAG SAFETY CHECK\n",
      "============================================================\n",
      "Using multi-stage retrieval...\n",
      "Checking 12 sentences against 11 source chunks\n",
      "Sentence 1: 'When prescribing antibiotics for elderly patients ...' -> Score: 0.699\n",
      "Sentence 2: 'While the provided information does not specify wh...' -> Score: 0.637\n",
      "Sentence 3: 'Elderly patients often experience age-related phys...' -> Score: 0.656\n",
      "Sentence 4: 'Additionally, comorbidities like hypertension, dys...' -> Score: 0.645\n",
      "Sentence 5: 'These factors, combined with frailty, dementia, or...' -> Score: 0.736\n",
      "Sentence 6: 'Although specific antibiotics that minimize the ri...' -> Score: 0.747\n",
      "Sentence 7: 'This includes considering organ function, renal cl...' -> Score: 0.566\n",
      "Sentence 8: 'For instance, in patients with augmented renal cle...' -> Score: 0.753\n",
      "Sentence 9: 'Given the lack of specific guidance in the provide...' -> Score: 0.595\n",
      "Sentence 10: 'This includes regular INR monitoring to detect any...' -> Score: 0.575\n",
      "Sentence 11: 'Consulting a healthcare professional or reliable m...' -> Score: 0.685\n",
      "Sentence 12: 'In summary, while the provided information does no...' -> Score: 0.706\n",
      "Asking the same question 2 times...\n",
      "Similarity between response 1 and 2: 0.974\n",
      "\n",
      "Average consistency score: 0.974\n",
      "High consistency - responses are very similar\n",
      "\n",
      "Semantic Entropy Score: 1.557\n",
      "Interpretation: MEDIUM uncertainty - review recommended\n",
      "\n",
      "OVERALL SAFETY ASSESSMENT\n",
      "========================================\n",
      "Attribution Score: 0.667\n",
      "Good source attribution\n",
      "Consistency Score: 0.974\n",
      "Good consistency\n",
      "Semantic entropy score: 1.557\n",
      "High semantic entropy\n",
      "\n",
      "Final Assessment: MEDIUM CONFIDENCE\n",
      "\n",
      "Medical Disclaimer: This information is for educational purposes only.\n"
     ]
    }
   ],
   "source": [
    "# Test the comprehensive safety check\n",
    "test_question = \"What antibiotics are safe to use with warfarin in elderly patients?\"\n",
    "safety_result = comprehensive_safety_check(test_question, query_engine_reranker, llm, use_multi_stage=True)"
   ]
  },
  {
   "cell_type": "markdown",
   "id": "8e0d3a82",
   "metadata": {},
   "source": [
    "# External Fact-Checking Module for Healthcare RAG\n",
    "# Part 4: Building a Transparent Interface for Healthcare AI\n",
    "\n",
    "We will use PubMed to search for relevant information. First, we need to transform our answer into pubmed queries. We will ask an llm to do that for us"
   ]
  },
  {
   "cell_type": "code",
   "execution_count": 87,
   "id": "46657847",
   "metadata": {},
   "outputs": [
    {
     "data": {
      "text/plain": [
       "\"The preferred outpatient therapy for community-acquired pneumonia (CAP) in a pregnant patient during the second trimester typically includes antibiotics that are safe for use during pregnancy. Options may include beta-lactams such as amoxicillin or amoxicillin-clavulanate, and macrolides like azithromycin if atypical pathogens are suspected. The choice of therapy should consider the safety profile of the medication for both the mother and the fetus, as well as the local resistance patterns and the patient's clinical condition.\""
      ]
     },
     "execution_count": 87,
     "metadata": {},
     "output_type": "execute_result"
    }
   ],
   "source": [
    "answer"
   ]
  },
  {
   "cell_type": "code",
   "execution_count": 252,
   "id": "57d99021",
   "metadata": {},
   "outputs": [],
   "source": [
    "# Split answer into sentences\n",
    "answer_sentences = re.split(r'[.!?]+', answer)\n",
    "answer_sentences = [s.strip() for s in answer_sentences if s.strip()]"
   ]
  },
  {
   "cell_type": "code",
   "execution_count": 240,
   "id": "ae887f42",
   "metadata": {},
   "outputs": [],
   "source": [
    "import os\n",
    "from openai import OpenAI\n",
    "import requests\n",
    "\n",
    "# Set your API key\n",
    "openai_api_key = os.getenv(\"OPENAI_API_KEY\")\n",
    "\n",
    "def call_openai(system_prompt, user_prompt, model=\"gpt-4o-2024-11-20\", temperature=0.1):\n",
    "    client = OpenAI()\n",
    "    response = client.chat.completions.create(\n",
    "    model=model,\n",
    "    messages=[\n",
    "        {\n",
    "            \"role\": \"system\",\n",
    "            \"content\": system_prompt\n",
    "        },\n",
    "        {\n",
    "            \"role\": \"user\",\n",
    "            \"content\": user_prompt\n",
    "        }\n",
    "    ],\n",
    "    temperature=temperature,\n",
    ")\n",
    "    return response.choices[0].message.content\n",
    "\n",
    "def generate_scholar_keywords(answer, call_openai):\n",
    "    \"\"\"\n",
    "    Calls an LLM to transform an answer or question into a PubMed search query.\n",
    "    llm_generate_fn(prompt) should return a string result.\n",
    "    \"\"\"\n",
    "    system_prompt = \"\"\"You are a clinical NLP assistant that extracts 3–6 concise keywords\n",
    "from an answer so they can be used as a Semantic Scholar search query.\n",
    "\n",
    "Rules\n",
    "1. Output ONE line containing only the keywords separated by spaces.\n",
    "2. Use lower-case nouns; drop adjectives and stop-words.\n",
    "3. Include a keyword for:\n",
    "   • the main disease / problem\n",
    "   • the intervention / drug class (if present)\n",
    "   • the population or special setting (if present)\n",
    "4. Do NOT include numbers, punctuation, extra words, or explanations.\n",
    "5. If the answer covers multiple distinct topics, pick the MOST\n",
    "   central one (usually the first sentence).\n",
    "\"\"\"\n",
    "\n",
    "    user_prompt = f\"\"\"Extract keywords for Semantic Scholar from this answer:\n",
    "\n",
    "{answer}\n",
    "\n",
    "Keywords:\n",
    "\"\"\"\n",
    "    \n",
    "    keywords = call_openai(system_prompt, user_prompt)\n",
    "\n",
    "    return keywords"
   ]
  },
  {
   "cell_type": "code",
   "execution_count": 242,
   "id": "55367e20",
   "metadata": {},
   "outputs": [
    {
     "name": "stdout",
     "output_type": "stream",
     "text": [
      "community-acquired pneumonia antibiotics pregnancy\n"
     ]
    }
   ],
   "source": [
    "# 1. Extract keywords from the answer:\n",
    "query = generate_scholar_keywords(answer, call_openai)\n",
    "print(query)"
   ]
  },
  {
   "cell_type": "code",
   "execution_count": 243,
   "id": "44116fa5",
   "metadata": {},
   "outputs": [],
   "source": [
    "# Query semantic scholar\n",
    "def search_semantic_scholar(query, max_results=10):\n",
    "    url = \"https://api.semanticscholar.org/graph/v1/paper/search\"\n",
    "    params = {\"query\": query, \"limit\": max_results, \"fields\": \"title,abstract\"}\n",
    "\n",
    "    response = requests.get(url, params=params)\n",
    "    response.raise_for_status()\n",
    "    articles = response.json()\n",
    "\n",
    "    abstracts = []\n",
    "    for article in articles['data']:\n",
    "        if not article['abstract']:\n",
    "            print(\"No data\")\n",
    "        else:\n",
    "            abstracts.append(article['abstract'])\n",
    "    return abstracts"
   ]
  },
  {
   "cell_type": "code",
   "execution_count": 244,
   "id": "407271a2",
   "metadata": {},
   "outputs": [
    {
     "name": "stdout",
     "output_type": "stream",
     "text": [
      "No data\n",
      "No data\n",
      "No data\n"
     ]
    }
   ],
   "source": [
    "abstracts = search_semantic_scholar(query)"
   ]
  },
  {
   "cell_type": "code",
   "execution_count": 246,
   "id": "f1948184",
   "metadata": {},
   "outputs": [
    {
     "data": {
      "text/plain": [
       "['Community acquired lower lobe pneumonia is a rare cause of abdominal pain in pregnancy which may present as acute abdominal pain. Ultrasound\\nand MRI are the preferred imaging investigations. The standard treatment is broad spectrum antibiotics and pleuritic interventions. We report a\\ncase of lower lobe pneumonia with pleural effusion presented in \\uf001rst trimester with acute abdominal pain.',\n",
       " 'BACKGROUND Cryptogenic organizing pneumonia (COP), formerly known as bronchiolitis obliterans organizing pneumonia, is an extremely rare disease in pregnancy. In this case, we report on COP diagnosed in recurrent pneumonia that does not respond to antibiotics in pregnant woman. CASE SUMMARY A 35-year-old woman with no prior lung disease presented with concerns of chest pain with cough, sputum, dyspnea, and mild fever at 11 wk’ gestation. She was diagnosed with community-acquired pneumonia and treated with antibiotics; her symptoms improved temporarily. Four weeks after discharge, she was re-admitted with aggravated symptoms. Chest computed tomography demonstrated multifocal patchy airspace consolidation and ground-glass opacities at the basal segments of the right lower lobe, at the lateral basal segment of the lower lobe, and at the lingular segment of the left upper lobe. Bronchoalveolar lavage revealed an increased lymphocyte count and a decreased CD4/CD8 ratio. Prednisolone (0.5 mg/kg/d) was administered for 10 d after the second admission. Dyspnea improved after 3 d of steroid treatment and other symptoms improved on the 5th day of steroid administration. Post-delivery transbronchial lung biopsy further revealed the presence of granulation tissue with fibroblasts in small-bronchiole lumens. CONCLUSION This case suggests that it is important to differentiate COP from atypical pneumonia in the deteriorated condition despite antibiotic treatment.',\n",
       " 'Acquired hemophilia A (AHA) is a rare disease induced by autoantibodies to factor VIII (FVIII) and may be correlated with pregnancy, underlying malignancies, autoimmune diseases or drug administration. An 81-year-old man who presented with cough, expectoration, hemoptysis and multiple ecchymoses was diagnosed with community-acquired pneumonia by computed tomography scan. Respiratory symptoms were ameliorated after the application of antibiotics. Despite repeated infusion of fresh frozen plasma and cryoprecipitate, his prolonged activated partial thromboplastin time (APTT) maintained in the 75-110-s range and ecchymoses were not ameliorated. Then, he was transferred to the department of hematology. Based on a prolonged APTT, decreased level of FVIII and presence of antibodies against FVIII, the patient was diagnosed with AHA. Then the patient was treated with activated prothrombin complex concentrates, prednisone and intravenous immunoglobulin, resulting in a complete remission of the bleeding, recovering the FVIII level and negativity for FVIII antibody titers. Here, we investigate this novel case retrospectively and review the relevant literature.',\n",
       " 'BACKGROUND\\nKlebsiella pneumoniae (K. pneumoniae) can cause hospital- and community-acquired pneumonia, and urinary tract, wound, and blood infections. As there are few reports on K. pneumoniae infections in pregnancy and no treatment guidelines, diagnosis and treatment are difficult. The diagnosis and treatment require a bacterial culture to confirm the diagnosis. Therefore, the condition is often exacerbated due to a lack of timely medication.\\n\\n\\nCASE DESCRIPTION\\nWe report a case of a pregnant woman with recurrent K. pneumoniae infection during pregnancy. The 40-year-old woman was admitted to hospital at 14 weeks gestation due to fever of unknown origin. She was treated with empiric antibiotics, and her fever resolved within 1 day. A blood culture showed K. pneumoniae infection. She was discharged after 11 days of treatment. However, 10 days later, she was re-hospitalized due to fever, and treated with cefoperazone sodium and sulbactam sodium. Her fever resolved within 1 day. A blood culture again showed K. pneumoniae infection. On day 5, she experienced chills and a miscarriage. Cervical secretions showed K. pneumoniae, and a placental examination revealed chorioamnionitis. The treatment was changed to meropenem, and the patient recovered within 2 weeks.\\n\\n\\nCONCLUSIONS\\nWhen a fever of unknown origin occurs during pregnancy, one should be wary of K. pneumoniae recurrence or secondary infection, and use sensitive antibiotics early. When K. pneumoniae is cultivated, the course of treatment must be sufficient, and the source of infection must be actively searched to prevent secondary infections, such as kidney cysts, liver cysts, lung cysts, and community infections. Finding the cause and taking appropriate treatment can prevent the occurrence of adverse pregnancy and childbirth history.',\n",
       " 'How Not to Miss Pregnancy Related Cardiomyopathy? \\n36 year old G5P4 African American female at 37 weeks presented with 2 week history of fatigue, shortness of breath on walking a few steps, and cough. Examination was significant for mild tachycardia at 110 beats per minute, oxygen saturations of 90%, and crackles across both lung fields. Chest X-ray revealed bilateral pulmonary infiltrates. The patient was hospitalized with a presumptive diagnosis of community acquired pneumonia. She was started on broad spectrum antibiotics.',\n",
       " 'Objective: To review the treatment of common bacterial and viral infections occurring in the pregnant patient. Data Sources: A literature search of MEDLINE was performed (inception to October 2018). The Centers for Disease Control and Prevention website was utilized for additional information. Study Selection and Data Extraction: Relevant English-language studies and those conducted in humans were considered. Data Synthesis: β-Lactams alone or in combination are the preferred treatment for many common infections in pregnancy, such as urinary tract infections, pelvic inflammatory disease (PID), gonococcal infections, syphilis, chancroid, upper- and lower-respiratory-tract infections, certain gastrointestinal infections, Group B Streptococcus, listeriosis, and intrauterine inflammation or infection. Macrolides, particularly azithromycin, are also utilized for the treatment of PID, chlamydia, gonococcal infections, chancroid, community-acquired pneumonia, and certain gastrointestinal infections. Other antibiotics or antivirals such as vancomycin, aminoglycosides, metronidazole, nitrofurantoin, fosfomycin, acyclovir, valacyclovir, and oseltamivir are included in the preferred therapy for some common bacterial and viral infections in pregnant patients as well. Relevance to Patient Care and Clinical Practice: This review synthesizes available evidence of treatments of common infections in pregnancy and provides a concise summary to guide clinicians on empirical treatment during pregnancy. Conclusions: There are limited data on clinical outcomes in pregnant patients with common bacterial and viral infections. Empirical management decisions require balance of benefit and risk to both mother and infant. Although few clinical practice guidelines have quality evidence for strong recommendations in this population, clinicians should weigh antimicrobial dosing, pharmacokinetics, safety, and established effectiveness to optimize antimicrobial therapy in pregnancy.',\n",
       " 'Introduction: Catastrophic Antiphospholipid Syndrome (CAPS) is a rare, life-threatening autoimmune disease. We describe a case of CAPS during pregnancy requiring emergent VA ECMO cannulation. Description: A 20 year old G1P000 female at 27 weeks gestation presented to the emergency department with pleuritic chest pain and shortness of breath. The patient reported a history of Antiphospholipid Antibody Syndrome, Factor V Leiden Deficiency, and Budd Chiari Syndrome. A CTPA was ordered. Imaging demonstrated bilateral ground glass nodular opacities and no pulmonary embolism. The patient was admitted for suspected community acquired pneumonia and started on antibiotics and supplemental oxygen. On hospital day 5, the patient experienced worsening dyspnea and chest pain. A chest x-ray showed bilateral diffuse, patchy infiltrates consistent with severe pulmonary edema. Fetal heart tracing at this time showed persistent late decelerations and the decision was made to proceed with emergent caesarian delivery. Immediately following delivery, the patient had worsening hemodynamic instability despite adequate hemostasis and minimal blood loss during surgery. A transesophageal echo (TEE) demonstrated global cardiac dysfunction with an estimated left ventricular ejection fraction (LVEF) of 10-15%. The patient was started on vasoactive medications with minimal improvement in cardiac output. Cardiothoracic surgery was consulted and the decision was made to cannulate for VA ECMO. Aggressive treatment for CAPS was initiated including plasmaphoresis, IVIG, and high intensity steroids. The patient made gradual improvement and was decannulated from ECMO on hospital day 8. She was transferred to the Neuro ICU where aggressive care continued. On hospital day 63, the patient was discharged to a rehab facility with a Modified Rankin Scale score of 1. Discussion: We successfully treated a rare case of CAPS precipitated by pregnancy that manifested with severe cardiomyopathy. While CAPS affects the heart in approximately 51% of cases, cardiogenic shock is a rare complication. The patient was successfully supported with VA ECMO while aggressive therapy for CAPS was initiated. The patient made considerable recovery and was discharged with no significant disability.']"
      ]
     },
     "execution_count": 246,
     "metadata": {},
     "output_type": "execute_result"
    }
   ],
   "source": [
    "abstracts"
   ]
  },
  {
   "cell_type": "code",
   "execution_count": 247,
   "id": "5acd1cf5",
   "metadata": {},
   "outputs": [
    {
     "data": {
      "text/plain": [
       "np.float32(0.56347543)"
      ]
     },
     "execution_count": 247,
     "metadata": {},
     "output_type": "execute_result"
    }
   ],
   "source": [
    "\n",
    "score, _   = check_answer_support(answer, abstracts, encoder)\n",
    "score"
   ]
  },
  {
   "cell_type": "code",
   "execution_count": 249,
   "id": "79c21b17",
   "metadata": {},
   "outputs": [],
   "source": [
    "# Split all abstracts into sentences\n",
    "import re\n",
    "\n",
    "_SENTENCE_SPLIT_RE = re.compile(r'(?<=[.!?])\\s+')\n",
    "\n",
    "def _split_into_sentences(text, min_len=10):\n",
    "    \"\"\"\n",
    "    Very lightweight sentence splitter.\n",
    "    - Splits on punctuation followed by whitespace.\n",
    "    - Strips whitespace.\n",
    "    - Drops fragments shorter than `min_len` characters.\n",
    "    \"\"\"\n",
    "    pieces = _SENTENCE_SPLIT_RE.split(text)\n",
    "    return [s.strip() for s in pieces if len(s.strip()) >= min_len]\n",
    "\n",
    "def prepare_abstract_sentences(abstracts, min_len=10):\n",
    "    \"\"\"\n",
    "    Parameters\n",
    "    ----------\n",
    "    abstracts : list[str]\n",
    "        Each item is a single PubMed abstract (or any free-text chunk).\n",
    "    min_len : int\n",
    "        Minimum character length to keep a sentence (filters headings, etc.).\n",
    "\n",
    "    Returns\n",
    "    -------\n",
    "    list[str]\n",
    "        Flattened list of cleaned sentences ready for semantic-similarity scoring.\n",
    "    \"\"\"\n",
    "    sentences = []\n",
    "    for abs_text in abstracts:\n",
    "        sentences.extend(_split_into_sentences(abs_text, min_len=min_len))\n",
    "    return sentences\n"
   ]
  },
  {
   "cell_type": "code",
   "execution_count": 250,
   "id": "bd261303",
   "metadata": {},
   "outputs": [],
   "source": [
    "sentences = prepare_abstract_sentences(abstracts)"
   ]
  },
  {
   "cell_type": "code",
   "execution_count": 251,
   "id": "6c9f101a",
   "metadata": {},
   "outputs": [
    {
     "name": "stderr",
     "output_type": "stream",
     "text": [
      "/opt/anaconda3/envs/ml_dev/lib/python3.11/site-packages/sklearn/utils/extmath.py:203: RuntimeWarning: divide by zero encountered in matmul\n",
      "  ret = a @ b\n",
      "/opt/anaconda3/envs/ml_dev/lib/python3.11/site-packages/sklearn/utils/extmath.py:203: RuntimeWarning: overflow encountered in matmul\n",
      "  ret = a @ b\n",
      "/opt/anaconda3/envs/ml_dev/lib/python3.11/site-packages/sklearn/utils/extmath.py:203: RuntimeWarning: invalid value encountered in matmul\n",
      "  ret = a @ b\n",
      "/opt/anaconda3/envs/ml_dev/lib/python3.11/site-packages/sklearn/utils/extmath.py:203: RuntimeWarning: divide by zero encountered in matmul\n",
      "  ret = a @ b\n",
      "/opt/anaconda3/envs/ml_dev/lib/python3.11/site-packages/sklearn/utils/extmath.py:203: RuntimeWarning: overflow encountered in matmul\n",
      "  ret = a @ b\n",
      "/opt/anaconda3/envs/ml_dev/lib/python3.11/site-packages/sklearn/utils/extmath.py:203: RuntimeWarning: invalid value encountered in matmul\n",
      "  ret = a @ b\n",
      "/opt/anaconda3/envs/ml_dev/lib/python3.11/site-packages/sklearn/utils/extmath.py:203: RuntimeWarning: divide by zero encountered in matmul\n",
      "  ret = a @ b\n",
      "/opt/anaconda3/envs/ml_dev/lib/python3.11/site-packages/sklearn/utils/extmath.py:203: RuntimeWarning: overflow encountered in matmul\n",
      "  ret = a @ b\n",
      "/opt/anaconda3/envs/ml_dev/lib/python3.11/site-packages/sklearn/utils/extmath.py:203: RuntimeWarning: invalid value encountered in matmul\n",
      "  ret = a @ b\n"
     ]
    },
    {
     "data": {
      "text/plain": [
       "np.float32(0.6780352)"
      ]
     },
     "execution_count": 251,
     "metadata": {},
     "output_type": "execute_result"
    }
   ],
   "source": [
    "score, _   = check_answer_support(answer, sentences, encoder)\n",
    "score"
   ]
  },
  {
   "cell_type": "code",
   "execution_count": 255,
   "id": "fa8039e3",
   "metadata": {},
   "outputs": [],
   "source": [
    "def external_fact_check_answer(answer, max_results=10):\n",
    "    # 1. Extract keywords from the answer:\n",
    "    query = generate_scholar_keywords(answer, call_openai)\n",
    "    print(f\"Generated query: {query}\")\n",
    "\n",
    "    # 2. Search semantic scholar for trustworthy sources\n",
    "    abstracts = search_semantic_scholar(query, max_results=max_results)\n",
    "\n",
    "    # 3. Prepare sentence-level abstracts\n",
    "    abstract_sentences = prepare_abstract_sentences(abstracts)\n",
    "\n",
    "    # 4. check answer support\n",
    "    score, _   = check_answer_support(answer, abstract_sentences, encoder)\n",
    "    return score\n",
    "    "
   ]
  },
  {
   "cell_type": "code",
   "execution_count": 258,
   "id": "a5b77cba",
   "metadata": {},
   "outputs": [
    {
     "name": "stdout",
     "output_type": "stream",
     "text": [
      "Generated query: community-acquired pneumonia antibiotics pregnancy\n",
      "No data\n",
      "No data\n",
      "No data\n"
     ]
    },
    {
     "name": "stderr",
     "output_type": "stream",
     "text": [
      "/opt/anaconda3/envs/ml_dev/lib/python3.11/site-packages/sklearn/utils/extmath.py:203: RuntimeWarning: divide by zero encountered in matmul\n",
      "  ret = a @ b\n",
      "/opt/anaconda3/envs/ml_dev/lib/python3.11/site-packages/sklearn/utils/extmath.py:203: RuntimeWarning: overflow encountered in matmul\n",
      "  ret = a @ b\n",
      "/opt/anaconda3/envs/ml_dev/lib/python3.11/site-packages/sklearn/utils/extmath.py:203: RuntimeWarning: invalid value encountered in matmul\n",
      "  ret = a @ b\n",
      "/opt/anaconda3/envs/ml_dev/lib/python3.11/site-packages/sklearn/utils/extmath.py:203: RuntimeWarning: divide by zero encountered in matmul\n",
      "  ret = a @ b\n",
      "/opt/anaconda3/envs/ml_dev/lib/python3.11/site-packages/sklearn/utils/extmath.py:203: RuntimeWarning: overflow encountered in matmul\n",
      "  ret = a @ b\n",
      "/opt/anaconda3/envs/ml_dev/lib/python3.11/site-packages/sklearn/utils/extmath.py:203: RuntimeWarning: invalid value encountered in matmul\n",
      "  ret = a @ b\n",
      "/opt/anaconda3/envs/ml_dev/lib/python3.11/site-packages/sklearn/utils/extmath.py:203: RuntimeWarning: divide by zero encountered in matmul\n",
      "  ret = a @ b\n",
      "/opt/anaconda3/envs/ml_dev/lib/python3.11/site-packages/sklearn/utils/extmath.py:203: RuntimeWarning: overflow encountered in matmul\n",
      "  ret = a @ b\n",
      "/opt/anaconda3/envs/ml_dev/lib/python3.11/site-packages/sklearn/utils/extmath.py:203: RuntimeWarning: invalid value encountered in matmul\n",
      "  ret = a @ b\n"
     ]
    }
   ],
   "source": [
    "external_support = external_fact_check_answer(answer)"
   ]
  },
  {
   "cell_type": "code",
   "execution_count": 259,
   "id": "b4610037",
   "metadata": {},
   "outputs": [
    {
     "data": {
      "text/plain": [
       "np.float32(0.6780352)"
      ]
     },
     "execution_count": 259,
     "metadata": {},
     "output_type": "execute_result"
    }
   ],
   "source": [
    "external_support"
   ]
  },
  {
   "cell_type": "code",
   "execution_count": 260,
   "id": "13cf0090",
   "metadata": {},
   "outputs": [],
   "source": [
    "def comprehensive_safety_check(question, query_engine, llm, use_multi_stage=False, DEBUG_MODE=False):\n",
    "    \"\"\"\n",
    "    Perform comprehensive safety checking on a RAG response\n",
    "    \"\"\"\n",
    "    def debug_print(*args, **kwargs):\n",
    "        \"\"\"Print only if DEBUG_MODE is enabled.\"\"\"\n",
    "        if DEBUG_MODE:\n",
    "            print(*args, **kwargs)\n",
    "\n",
    "    print(\"COMPREHENSIVE MEDICAL RAG SAFETY CHECK\")\n",
    "    print(\"=\" * 60)\n",
    "\n",
    "    # Step 1: Get the answer\n",
    "    if use_multi_stage:\n",
    "        print(\"Using multi-stage retrieval...\")\n",
    "        result = multi_stage_retrieval(question, query_engine, llm)\n",
    "        answer = result[\"final_answer\"]\n",
    "        source_chunks = [node.text for node in result[\"all_sources\"]]\n",
    "    else:\n",
    "        print(\"Using standard retrieval...\")\n",
    "        response = query_engine.query(question)\n",
    "        answer = response.response\n",
    "        source_chunks = [node.text for node in response.source_nodes]\n",
    "\n",
    "    debug_print(f\"\\nQuestion: {question}\")\n",
    "    debug_print(f\"Answer: {answer[:200]}...\")\n",
    "\n",
    "    # Step 2: Attribution check\n",
    "    debug_print(f\"\\nATTRIBUTION CHECK\")\n",
    "    attribution_score, _ = check_answer_support(answer, source_chunks, encoder)\n",
    "\n",
    "    # Step 3: Consistency check\n",
    "    debug_print(f\"\\nCONSISTENCY CHECK\")\n",
    "    consistency_score, _ = check_consistency(question, query_engine, num_tries=2)\n",
    "\n",
    "    # Step 4: Find weak sentences\n",
    "    debug_print(f\"\\nWEAK SENTENCE DETECTION\")\n",
    "    weak_sentences = find_weak_sentences(answer, source_chunks)\n",
    "\n",
    "    # Show warnings\n",
    "    if weak_sentences:\n",
    "        debug_print(f\"\\nPOTENTIAL ISSUES:\")\n",
    "        for weak in weak_sentences:\n",
    "            debug_print(f\"- Weak support: \\\"{weak['sentence'][:100]}...\\\"\")\n",
    "    else:\n",
    "        debug_print(f\"\\nNo weak sentences found\")\n",
    "\n",
    "    # Step 5: Calculate semantic entropy\n",
    "    entropy_result = calculate_semantic_entropy(\n",
    "            question, query_engine, encoder, num_samples=3\n",
    "        )\n",
    "    semantic_entropy = entropy_result['semantic_entropy']\n",
    "\n",
    "    # Step 6: Calculate support from external sources\n",
    "    external_support = external_fact_check_answer(answer)\n",
    "\n",
    "    # Step 7: Overall safety assessment\n",
    "    print(f\"\\nOVERALL SAFETY ASSESSMENT\")\n",
    "    print(\"=\" * 40)\n",
    "\n",
    "    safety_score = 0\n",
    "    max_score = 4\n",
    "\n",
    "    print(f\"Attribution Score: {attribution_score:.3f}\")\n",
    "    if attribution_score > 0.6:\n",
    "        safety_score += 1\n",
    "        print(\"Good source attribution\")\n",
    "    else:\n",
    "        print(\"Weak source attribution\")\n",
    "\n",
    "    print(f\"Consistency Score: {consistency_score:.3f}\")\n",
    "    if consistency_score > 0.6:\n",
    "        safety_score += 1\n",
    "        print(\"Good consistency\")\n",
    "    else:\n",
    "        print(\"Low consistency\")\n",
    "\n",
    "    print(f\"Semantic entropy score: {semantic_entropy:.3f}\")\n",
    "    if entropy_result['confidence'] == \"HIGH\":\n",
    "        safety_score += 1\n",
    "        print(\"Good semantic entropy\")\n",
    "    else:\n",
    "        print(\"High semantic entropy\")\n",
    "\n",
    "    print(f\"External Fact Checking Score: {external_support:.3f}\")\n",
    "    if external_support > 0.6:\n",
    "        safety_score += 1\n",
    "        print(\"Good external support\")\n",
    "    else:\n",
    "        print(\"Low external support\")\n",
    "    \n",
    "\n",
    "\n",
    "    # Final confidence level\n",
    "    if safety_score == max_score:\n",
    "        confidence = \"HIGH CONFIDENCE\"\n",
    "    elif safety_score >= 2:\n",
    "        confidence = \"MEDIUM CONFIDENCE\"\n",
    "    else:\n",
    "        confidence = \"LOW CONFIDENCE\"\n",
    "\n",
    "    print(f\"\\nFinal Assessment: {confidence}\")\n",
    "\n",
    "    print(f\"\\nMedical Disclaimer: This information is for educational purposes only.\")\n",
    "\n",
    "    return {\n",
    "        \"question\": question,\n",
    "        \"answer\": answer,\n",
    "        \"attribution_score\": attribution_score,\n",
    "        \"consistency_score\": consistency_score,\n",
    "        \"semantic_entropy\": semantic_entropy,\n",
    "        \"weak_sentences\": weak_sentences,\n",
    "        \"safety_score\": safety_score,\n",
    "        \"confidence\": confidence,\n",
    "    }"
   ]
  },
  {
   "cell_type": "code",
   "execution_count": 261,
   "id": "64ad628d",
   "metadata": {},
   "outputs": [
    {
     "name": "stdout",
     "output_type": "stream",
     "text": [
      "COMPREHENSIVE MEDICAL RAG SAFETY CHECK\n",
      "============================================================\n",
      "Using standard retrieval...\n",
      "\n",
      "Average consistency score: 0.985\n",
      "High consistency - responses are very similar\n",
      "\n",
      "Semantic Entropy Score: 1.811\n",
      "Interpretation: MEDIUM uncertainty - review recommended\n",
      "Generated query: warfarin antibiotics elderly\n",
      "No data\n",
      "No data\n",
      "No data\n",
      "No data\n",
      "No data\n",
      "No data\n",
      "No data\n",
      "\n",
      "OVERALL SAFETY ASSESSMENT\n",
      "========================================\n",
      "Attribution Score: 0.612\n",
      "Good source attribution\n",
      "Consistency Score: 0.985\n",
      "Good consistency\n",
      "Semantic entropy score: 1.811\n",
      "High semantic entropy\n",
      "External Fact Checking Score: 0.571\n",
      "Low external support\n",
      "\n",
      "Final Assessment: MEDIUM CONFIDENCE\n",
      "\n",
      "Medical Disclaimer: This information is for educational purposes only.\n"
     ]
    },
    {
     "name": "stderr",
     "output_type": "stream",
     "text": [
      "/opt/anaconda3/envs/ml_dev/lib/python3.11/site-packages/sklearn/utils/extmath.py:203: RuntimeWarning: divide by zero encountered in matmul\n",
      "  ret = a @ b\n",
      "/opt/anaconda3/envs/ml_dev/lib/python3.11/site-packages/sklearn/utils/extmath.py:203: RuntimeWarning: overflow encountered in matmul\n",
      "  ret = a @ b\n",
      "/opt/anaconda3/envs/ml_dev/lib/python3.11/site-packages/sklearn/utils/extmath.py:203: RuntimeWarning: invalid value encountered in matmul\n",
      "  ret = a @ b\n",
      "/opt/anaconda3/envs/ml_dev/lib/python3.11/site-packages/sklearn/utils/extmath.py:203: RuntimeWarning: divide by zero encountered in matmul\n",
      "  ret = a @ b\n",
      "/opt/anaconda3/envs/ml_dev/lib/python3.11/site-packages/sklearn/utils/extmath.py:203: RuntimeWarning: overflow encountered in matmul\n",
      "  ret = a @ b\n",
      "/opt/anaconda3/envs/ml_dev/lib/python3.11/site-packages/sklearn/utils/extmath.py:203: RuntimeWarning: invalid value encountered in matmul\n",
      "  ret = a @ b\n"
     ]
    }
   ],
   "source": [
    "# Test the comprehensive safety check\n",
    "test_question = \"What antibiotics are safe to use with warfarin in elderly patients?\"\n",
    "safety_result = comprehensive_safety_check(test_question, query_engine_reranker, llm, use_multi_stage=False)"
   ]
  },
  {
   "cell_type": "code",
   "execution_count": null,
   "id": "569b5175",
   "metadata": {},
   "outputs": [],
   "source": []
  }
 ],
 "metadata": {
  "kernelspec": {
   "display_name": "ml_dev",
   "language": "python",
   "name": "python3"
  },
  "language_info": {
   "codemirror_mode": {
    "name": "ipython",
    "version": 3
   },
   "file_extension": ".py",
   "mimetype": "text/x-python",
   "name": "python",
   "nbconvert_exporter": "python",
   "pygments_lexer": "ipython3",
   "version": "3.11.9"
  }
 },
 "nbformat": 4,
 "nbformat_minor": 5
}
